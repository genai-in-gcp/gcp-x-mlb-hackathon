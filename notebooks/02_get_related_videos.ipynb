{
 "cells": [
  {
   "cell_type": "markdown",
   "id": "a31d33df-28fe-4a43-bef2-4eb98f224068",
   "metadata": {
    "tags": []
   },
   "source": [
    "# 2. Semantic Retriever - Gemini API"
   ]
  },
  {
   "cell_type": "markdown",
   "id": "ff701e8e-3008-4020-9e2a-ccc1774ad2e2",
   "metadata": {
    "tags": []
   },
   "source": [
    "https://ai.google.dev/gemini-api/docs/semantic_retrieval?utm_source=chatgpt.com"
   ]
  },
  {
   "cell_type": "markdown",
   "id": "36b9f2a6-871b-4200-a7fe-2c90e7b76202",
   "metadata": {},
   "source": [
    "## Setup"
   ]
  },
  {
   "cell_type": "code",
   "execution_count": 14,
   "id": "e2e13cf8-f3a7-4818-a586-b13a8d018c2f",
   "metadata": {
    "tags": []
   },
   "outputs": [],
   "source": [
    "service_account_file_name = '../service_account_key.json'\n",
    "\n",
    "from google.oauth2 import service_account\n",
    "\n",
    "credentials = service_account.Credentials.from_service_account_file(service_account_file_name)\n",
    "\n",
    "scoped_credentials = credentials.with_scopes(\n",
    "    ['https://www.googleapis.com/auth/cloud-platform', 'https://www.googleapis.com/auth/generative-language.retriever'])"
   ]
  },
  {
   "cell_type": "code",
   "execution_count": 15,
   "id": "fd0ba16a-7d8d-4324-8626-3e173d9491cc",
   "metadata": {
    "tags": []
   },
   "outputs": [],
   "source": [
    "import google.ai.generativelanguage as glm\n",
    "generative_service_client = glm.GenerativeServiceClient(credentials=scoped_credentials)\n",
    "retriever_service_client = glm.RetrieverServiceClient(credentials=scoped_credentials)\n",
    "permission_service_client = glm.PermissionServiceClient(credentials=scoped_credentials)"
   ]
  },
  {
   "cell_type": "markdown",
   "id": "21760f6e-45e5-484e-9810-fd51e5f9a1aa",
   "metadata": {},
   "source": [
    "## Knowledge Base"
   ]
  },
  {
   "cell_type": "markdown",
   "id": "de186dd8-b0fc-4813-b98d-97068ab99ecc",
   "metadata": {},
   "source": [
    "### Corpus"
   ]
  },
  {
   "cell_type": "markdown",
   "id": "f6a6a5b7-5c6a-4234-9743-2faa18c87332",
   "metadata": {},
   "source": [
    "**Corpus** in the context of Google's Gemini API (and semantic retrieval in general) refers to a structured collection of data that you want the model to search through."
   ]
  },
  {
   "cell_type": "markdown",
   "id": "14d7ea90-996e-40a8-82f1-908b1da55947",
   "metadata": {},
   "source": [
    "#### Create Corpus"
   ]
  },
  {
   "cell_type": "code",
   "execution_count": 16,
   "id": "9ba7bcca-fd50-462f-89fe-d5ebcdbdff10",
   "metadata": {
    "tags": []
   },
   "outputs": [
    {
     "name": "stdout",
     "output_type": "stream",
     "text": [
      "Corpus already exists: corpora/tiktoks-from-mlb-ecz04so6tdfy\n"
     ]
    }
   ],
   "source": [
    "list_corpora_response = retriever_service_client.list_corpora()\n",
    "\n",
    "existing_corpus = None\n",
    "for corpus in list_corpora_response.corpora:\n",
    "    if corpus.display_name == \"Tiktoks from MLB\":  # Change this name as needed\n",
    "        existing_corpus = corpus\n",
    "        break\n",
    "\n",
    "if existing_corpus:\n",
    "    print(f\"Corpus already exists: {existing_corpus.name}\")\n",
    "    corpus_resource_name = existing_corpus.name\n",
    "else:\n",
    "    print(\"Corpus does not exist. Creating a new one...\")\n",
    "    corpus = glm.Corpus(display_name=\"Tiktoks from MLB\")\n",
    "    create_corpus_request = glm.CreateCorpusRequest(corpus=corpus)\n",
    "    # Make the request\n",
    "    create_corpus_response = retriever_service_client.create_corpus(create_corpus_request)\n",
    "    # Set the `corpus_resource_name` for subsequent sections.\n",
    "    corpus_resource_name = create_corpus_response.name\n",
    "    print(create_corpus_response)\n"
   ]
  },
  {
   "cell_type": "markdown",
   "id": "e8472134-c291-4adc-8449-d083aa275594",
   "metadata": {
    "tags": []
   },
   "source": [
    "### Document"
   ]
  },
  {
   "cell_type": "markdown",
   "id": "709a0bdf-5156-495f-83d3-d125e3b18fcc",
   "metadata": {},
   "source": [
    "A Corpus can contain up to 10,000 Documents. "
   ]
  },
  {
   "cell_type": "code",
   "execution_count": 17,
   "id": "a80f7f4e-e6f5-4c79-b6ca-76b359266ec3",
   "metadata": {
    "tags": []
   },
   "outputs": [
    {
     "name": "stdout",
     "output_type": "stream",
     "text": [
      "Creating document\n",
      "name: \"corpora/tiktoks-from-mlb-ecz04so6tdfy/documents/2016mlbhomeruns-nua8bwthg1mp\"\n",
      "display_name: \"2016-mlb-homeruns\"\n",
      "custom_metadata {\n",
      "  key: \"file_name\"\n",
      "  string_value: \"2016-mlb-homeruns.csv\"\n",
      "}\n",
      "update_time {\n",
      "  seconds: 1740054886\n",
      "  nanos: 829604000\n",
      "}\n",
      "create_time {\n",
      "  seconds: 1740054886\n",
      "  nanos: 829604000\n",
      "}\n",
      "\n"
     ]
    }
   ],
   "source": [
    "list_documents_request = glm.ListDocumentsRequest(parent=corpus_resource_name)\n",
    "list_documents_response = retriever_service_client.list_documents(list_documents_request)\n",
    "\n",
    "if len(list_documents_response.documents) == 0:\n",
    "    print('Creating document')\n",
    "    # Create a document with a custom display name.\n",
    "    document = glm.Document(display_name=\"2016-mlb-homeruns\")\n",
    "    # Add metadata.\n",
    "    document_metadata = [\n",
    "        glm.CustomMetadata(key=\"file_name\", string_value=\"2016-mlb-homeruns.csv\")]\n",
    "    document.custom_metadata.extend(document_metadata)\n",
    "    # Make a request\n",
    "    create_document_request = glm.CreateDocumentRequest(parent=corpus_resource_name, document=document)\n",
    "    create_document_response = retriever_service_client.create_document(create_document_request)\n",
    "    # Set the `document_resource_name` for subsequent sections.\n",
    "    document_resource_name = create_document_response.name\n",
    "    print(create_document_response)\n",
    "elif len(list_documents_response.documents) == 1:\n",
    "    for document in list_documents_response.documents:\n",
    "        print(f\"Document ID: {document.name}, Title: {document.display_name}\")\n",
    "        document_resource_name = document.name\n",
    "else:\n",
    "    assert len(list_documents_response.documents) <= 1, \"We need a single document for our purposes\""
   ]
  },
  {
   "cell_type": "markdown",
   "id": "ea81603c-2c43-4234-9edd-7d629e5b89ff",
   "metadata": {
    "tags": []
   },
   "source": [
    "### Ingest & Chunk the Document"
   ]
  },
  {
   "cell_type": "code",
   "execution_count": 18,
   "id": "593d6c7e-07e1-4eb3-99fa-3a0a8f9edfd5",
   "metadata": {
    "tags": []
   },
   "outputs": [
    {
     "data": {
      "text/html": [
       "<div>\n",
       "<style scoped>\n",
       "    .dataframe tbody tr th:only-of-type {\n",
       "        vertical-align: middle;\n",
       "    }\n",
       "\n",
       "    .dataframe tbody tr th {\n",
       "        vertical-align: top;\n",
       "    }\n",
       "\n",
       "    .dataframe thead th {\n",
       "        text-align: right;\n",
       "    }\n",
       "</style>\n",
       "<table border=\"1\" class=\"dataframe\">\n",
       "  <thead>\n",
       "    <tr style=\"text-align: right;\">\n",
       "      <th></th>\n",
       "      <th>play_id</th>\n",
       "      <th>title</th>\n",
       "      <th>ExitVelocity</th>\n",
       "      <th>HitDistance</th>\n",
       "      <th>LaunchAngle</th>\n",
       "      <th>video</th>\n",
       "    </tr>\n",
       "  </thead>\n",
       "  <tbody>\n",
       "    <tr>\n",
       "      <th>0</th>\n",
       "      <td>5b254850-9e14-48d2-8baf-c3e12ecbe68d</td>\n",
       "      <td>John Jaso homers (6) on a fly ball to center f...</td>\n",
       "      <td>102.9</td>\n",
       "      <td>412.0</td>\n",
       "      <td>25.0</td>\n",
       "      <td>https://sporty-clips.mlb.com/YjlLTlpfWGw0TUFRP...</td>\n",
       "    </tr>\n",
       "  </tbody>\n",
       "</table>\n",
       "</div>"
      ],
      "text/plain": [
       "                                play_id  \\\n",
       "0  5b254850-9e14-48d2-8baf-c3e12ecbe68d   \n",
       "\n",
       "                                               title  ExitVelocity  \\\n",
       "0  John Jaso homers (6) on a fly ball to center f...         102.9   \n",
       "\n",
       "   HitDistance  LaunchAngle                                              video  \n",
       "0        412.0         25.0  https://sporty-clips.mlb.com/YjlLTlpfWGw0TUFRP...  "
      ]
     },
     "execution_count": 18,
     "metadata": {},
     "output_type": "execute_result"
    }
   ],
   "source": [
    "import pandas as pd\n",
    "\n",
    "df_homeruns = pd.read_csv('2016-mlb-homeruns.csv')\n",
    "df_homeruns.head(1)"
   ]
  },
  {
   "cell_type": "code",
   "execution_count": 19,
   "id": "1295420d-33e4-4136-83f0-279353e480b3",
   "metadata": {
    "tags": []
   },
   "outputs": [
    {
     "data": {
      "text/plain": [
       "play_id          0\n",
       "title            2\n",
       "ExitVelocity    49\n",
       "HitDistance      5\n",
       "LaunchAngle     49\n",
       "video            0\n",
       "dtype: int64"
      ]
     },
     "execution_count": 19,
     "metadata": {},
     "output_type": "execute_result"
    }
   ],
   "source": [
    "df_homeruns.isna().sum()"
   ]
  },
  {
   "cell_type": "code",
   "execution_count": 20,
   "id": "b8269f14-19c9-4813-b6d8-e2fc1167111a",
   "metadata": {
    "tags": []
   },
   "outputs": [],
   "source": [
    "df_homeruns = df_homeruns[~df_homeruns['title'].isna()]"
   ]
  },
  {
   "cell_type": "code",
   "execution_count": 21,
   "id": "47abb8b9-57b4-420d-95ed-8d6fa8f4349e",
   "metadata": {
    "tags": []
   },
   "outputs": [
    {
     "data": {
      "text/plain": [
       "play_id          0\n",
       "title            0\n",
       "ExitVelocity    48\n",
       "HitDistance      5\n",
       "LaunchAngle     48\n",
       "video            0\n",
       "dtype: int64"
      ]
     },
     "execution_count": 21,
     "metadata": {},
     "output_type": "execute_result"
    }
   ],
   "source": [
    "df_homeruns.isna().sum()"
   ]
  },
  {
   "cell_type": "code",
   "execution_count": 22,
   "id": "f2d415af-e9be-4813-af4e-4fb49621dfaf",
   "metadata": {
    "tags": []
   },
   "outputs": [
    {
     "name": "stderr",
     "output_type": "stream",
     "text": [
      "/var/tmp/ipykernel_20226/1179818479.py:2: FutureWarning: Series.__getitem__ treating keys as positions is deprecated. In a future version, integer keys will always be treated as labels (consistent with DataFrame behavior). To access a value by position, use `ser.iloc[pos]`\n",
      "  result_dict = {row[1]: index for index, row in df_homeruns.iterrows() for col in [\"title\"]}\n"
     ]
    },
    {
     "name": "stdout",
     "output_type": "stream",
     "text": [
      "key: John Jaso homers (6) on a fly ball to center field., value: 0\n"
     ]
    }
   ],
   "source": [
    "# Dictionary to get row id based on response from semantic api\n",
    "result_dict = {row[1]: index for index, row in df_homeruns.iterrows() for col in [\"title\"]}\n",
    "for key, value in result_dict.items():\n",
    "    print(f\"key: {key}, value: {value}\")\n",
    "    break"
   ]
  },
  {
   "cell_type": "code",
   "execution_count": 23,
   "id": "d0167dd6-dce6-43a5-80df-99150a111cd7",
   "metadata": {
    "tags": []
   },
   "outputs": [],
   "source": [
    "chunks = df_homeruns[\"title\"].tolist()"
   ]
  },
  {
   "cell_type": "code",
   "execution_count": 24,
   "id": "60adce93-6de2-4e87-afc6-6b9882636a18",
   "metadata": {
    "tags": []
   },
   "outputs": [
    {
     "data": {
      "text/plain": [
       "'John Jaso homers (6) on a fly ball to center field.'"
      ]
     },
     "execution_count": 24,
     "metadata": {},
     "output_type": "execute_result"
    }
   ],
   "source": [
    "chunks[0]"
   ]
  },
  {
   "cell_type": "markdown",
   "id": "322a62d0-8066-4acb-9712-e9471db37ce5",
   "metadata": {},
   "source": [
    "### Batch create chunks, create and upload each chunk"
   ]
  },
  {
   "cell_type": "code",
   "execution_count": 25,
   "id": "1cc1ff3c-5781-4f7b-864b-34f12e089f86",
   "metadata": {
    "collapsed": true,
    "jupyter": {
     "outputs_hidden": true
    },
    "tags": []
   },
   "outputs": [
    {
     "name": "stdout",
     "output_type": "stream",
     "text": [
      "1 out of 5497\n",
      "John Jaso homers (6) on a fly ball to center field.\n",
      "51 out of 5497\n",
      "Scooter Gennett homers (13) on a fly ball to right center field.    Andrew Susac scores.\n",
      "101 out of 5497\n",
      "Brandon Belt homers (17) on a fly ball to center field.   Madison Bumgarner scores.    Denard Span scores.\n",
      "151 out of 5497\n",
      "Mark Trumbo homers (26) on a fly ball to left field.\n",
      "201 out of 5497\n",
      "Jackie Bradley Jr.  homers (16) on a line drive to right center field.\n",
      "251 out of 5497\n",
      "Nelson Cruz homers (27) on a fly ball to left field.\n",
      "301 out of 5497\n",
      "Justin Turner homers (16) on a fly ball to left center field.   Adrian Gonzalez scores.\n",
      "351 out of 5497\n",
      "Ender Inciarte homers (2) on a fly ball to right field.    Chase d'Arnaud scores.\n",
      "401 out of 5497\n",
      "Ryan Braun homers (20) on a fly ball to center field.\n",
      "451 out of 5497\n",
      "Justin Turner homers (24) on a fly ball to left center field.\n",
      "501 out of 5497\n",
      "Wilmer Flores homers (16) on a fly ball to left center field.   Curtis Granderson scores.\n",
      "551 out of 5497\n",
      "Robinson Chirinos homers (3) on a line drive to left field.\n",
      "601 out of 5497\n",
      "Todd Frazier homers (6) on a fly ball to left field.   Jose Abreu scores.\n",
      "651 out of 5497\n",
      "Angel Pagan hits a grand slam (3) to center field.   Brandon Belt scores.    Buster Posey scores.    Brandon Crawford scores.\n",
      "701 out of 5497\n",
      "Dae-Ho Lee homers (10) on a fly ball to left center field.   Robinson Cano scores.    Nelson Cruz scores.\n",
      "751 out of 5497\n",
      "Marcus Semien homers (17) on a fly ball to left center field.   Jed Lowrie scores.\n",
      "801 out of 5497\n",
      "Tim Beckham homers (1) on a fly ball to center field.   Curt Casali scores.\n",
      "851 out of 5497\n",
      "Tyler Goeddel homers (1) on a fly ball to left center field.\n",
      "901 out of 5497\n",
      "J.T. Realmuto homers (1) on a line drive to left center field.\n",
      "951 out of 5497\n",
      "Kendrys Morales homers (2) on a fly ball to left center field.   Eric Hosmer scores.\n",
      "1001 out of 5497\n",
      "Mike Napoli homers (12) on a line drive to left field.   Jason Kipnis scores.\n",
      "1051 out of 5497\n",
      "Trevor Story homers (9) on a fly ball to center field.\n",
      "1101 out of 5497\n",
      "Adrian Beltre homers (1) on a fly ball to center field.\n",
      "1151 out of 5497\n",
      "Troy Tulowitzki homers (1) on a line drive to left center field.   Edwin Encarnacion scores.\n",
      "1201 out of 5497\n",
      "Nomar Mazara homers (3) on a fly ball to center field.\n",
      "1251 out of 5497\n",
      "Rougned Odor homers (7) on a line drive to right field.\n",
      "1301 out of 5497\n",
      "Starling Marte homers (2) on a fly ball to left field.   David Freese scores.\n",
      "1351 out of 5497\n",
      "Jorge Soler homers (6) on a line drive to left field.   Anthony Rizzo scores.    Addison Russell scores.\n",
      "1401 out of 5497\n",
      "Francisco Lindor homers (11) on a fly ball to right field.\n",
      "1451 out of 5497\n",
      "Trayce Thompson homers (9) on a fly ball to right center field.\n",
      "1501 out of 5497\n",
      "Ryan Howard homers (10) on a fly ball to right field.\n",
      "1551 out of 5497\n",
      "Evan Longoria homers (25) on a fly ball to center field.\n",
      "1601 out of 5497\n",
      "Zack Cozart homers (10) on a fly ball to left field.\n",
      "1651 out of 5497\n",
      "Matt Wieters homers (11) on a fly ball to center field.   Mark Trumbo scores.    Jonathan Schoop scores.\n",
      "1701 out of 5497\n",
      "Steve Pearce homers (11) on a fly ball to left center field.\n",
      "1751 out of 5497\n",
      "Aaron Hicks homers (3) on a line drive to left field.\n",
      "1801 out of 5497\n",
      "Danny Espinosa homers (18) on a fly ball to right center field.\n",
      "1851 out of 5497\n",
      "Tyler Flowers homers (1) on a fly ball to center field.\n",
      "1901 out of 5497\n",
      "Trea Turner homers (7) on a line drive to left field.   Danny Espinosa scores.\n",
      "1951 out of 5497\n",
      "Byron Buxton homers (5) on a fly ball to left center field.\n",
      "2001 out of 5497\n",
      "Ryan Braun homers (25) on a fly ball to left field.\n",
      "2051 out of 5497\n",
      "Justin Smoak homers (11) on a fly ball to left field.   Troy Tulowitzki scores.\n",
      "2101 out of 5497\n",
      "Chris Davis homers (1) on a fly ball to center field.\n",
      "2151 out of 5497\n",
      "Melky Cabrera homers (12) on a line drive to right field.    Tim Anderson scores.    Jose Abreu scores.\n",
      "2201 out of 5497\n",
      "Steven Souza Jr.  homers (3) on a fly ball to left center field.   Evan Longoria scores.    Desmond Jennings scores.\n",
      "2251 out of 5497\n",
      "Seth Smith homers (4) on a fly ball to right center field.\n",
      "2301 out of 5497\n",
      "Corey Dickerson homers (7) on a fly ball to left field.\n",
      "2351 out of 5497\n",
      "Eduardo Nunez homers (8) on a fly ball to left field.\n",
      "2401 out of 5497\n",
      "Mark Trumbo homers (18) on a fly ball to center field.\n",
      "2451 out of 5497\n",
      "Freddie Freeman homers (7) on a fly ball to right center field.    Mallex Smith scores.\n",
      "2501 out of 5497\n",
      "Jose Abreu homers (4) on a fly ball to left field.   Jimmy Rollins scores.\n",
      "2551 out of 5497\n",
      "Nomar Mazara homers (5) on a fly ball to center field.\n",
      "2601 out of 5497\n",
      "Curt Casali homers (6) on a fly ball to left field.\n",
      "2651 out of 5497\n",
      "Tucker Barnhart homers (2) on a line drive to left field.\n",
      "2701 out of 5497\n",
      "Stephen Vogt homers (8) on a fly ball to right center field.\n",
      "2751 out of 5497\n",
      "Brian Dozier homers (17) on a fly ball to left center field.\n",
      "2801 out of 5497\n",
      "Mike Zunino homers (9) on a fly ball to right field.    Robinson Cano scores.    Kyle Seager scores.\n",
      "2851 out of 5497\n",
      "Umpire reviewed (home run), call on the field was overturned: Jackie Bradley Jr.  homers (22) on a fly ball to left center field.\n",
      "2901 out of 5497\n",
      "Mookie Betts homers (21) on a fly ball to left field.\n",
      "2951 out of 5497\n",
      "Donovan Solano homers (1) on a line drive to left field.   Mason Williams scores.\n",
      "3001 out of 5497\n",
      "Nolan Arenado homers (38) on a fly ball to left field.   Carlos Gonzalez scores.\n",
      "3051 out of 5497\n",
      "Aaron Altherr homers (3) on a fly ball to center field.   Cameron Rupp scores.\n",
      "3101 out of 5497\n",
      "Mitch Moreland homers (14) on a line drive to left center field.   Ryan Rua scores.\n",
      "3151 out of 5497\n",
      "Max Kepler homers (14) on a line drive to right center field.    Joe Mauer scores.\n",
      "3201 out of 5497\n",
      "Ryan Braun homers (15) on a fly ball to center field.\n",
      "3251 out of 5497\n",
      "Justin Upton homers (18) on a line drive to left center field.\n",
      "3301 out of 5497\n",
      "Anthony Rendon homers (9) on a fly ball to left center field.\n",
      "3351 out of 5497\n",
      "Dae-Ho Lee homers (3) on a fly ball to right center field.\n",
      "3401 out of 5497\n",
      "Todd Frazier homers (36) on a fly ball to left center field.   JB Shuck scores.\n",
      "3451 out of 5497\n",
      "Tom Murphy homers (5) on a line drive to right center field.    Nolan Arenado scores.    Gerardo Parra scores.\n",
      "3501 out of 5497\n",
      "Jung Ho Kang homers (8) on a fly ball to center field.   Starling Marte scores.\n",
      "3551 out of 5497\n",
      "Dexter Fowler homers (5) on a fly ball to right field.\n",
      "3601 out of 5497\n",
      "Alex Gordon homers (3) on a fly ball to center field.\n",
      "3651 out of 5497\n",
      "Lucas Duda homers (7) on a fly ball to left center field.\n",
      "3701 out of 5497\n",
      "Lucas Duda homers (1) on a line drive to right field.\n",
      "3751 out of 5497\n",
      "Mike Trout homers (16) on a fly ball to center field.   Andrelton Simmons scores.\n",
      "3801 out of 5497\n",
      "Matt Duffy homers (3) on a fly ball to left field.\n",
      "3851 out of 5497\n",
      "Steve Pearce homers (6) on a fly ball to left field.   Taylor Motter scores.\n",
      "3901 out of 5497\n",
      "Rougned Odor homers (3) on a fly ball to right center field.\n",
      "3951 out of 5497\n",
      "Brandon Snyder homers (3) on a fly ball to left center field.\n",
      "4001 out of 5497\n",
      "Hanley Ramirez hits a grand slam (19) to left center field.   Jackie Bradley Jr.  scores.    Dustin Pedroia scores.    Mookie Betts scores.\n",
      "4051 out of 5497\n",
      "C.J. Cron hits a grand slam (7) to left center field.   Albert Pujols scores.    Jefry Marte scores.    Daniel Nava scores.\n",
      "4101 out of 5497\n",
      "Starlin Castro homers (11) on a line drive to left field.   Didi Gregorius scores.\n",
      "4151 out of 5497\n",
      "Mark Trumbo homers (21) on a fly ball to right center field.\n",
      "4201 out of 5497\n",
      "David Freese homers (7) on a fly ball to right field.\n",
      "4251 out of 5497\n",
      "Avisail Garcia homers (6) on a fly ball to left center field.\n",
      "4301 out of 5497\n",
      "James McCann hits a grand slam (8) to left center field.   Victor Martinez scores.    Justin Upton scores.    Mike Aviles scores.\n",
      "4351 out of 5497\n",
      "Brett Eibner homers (5) on a line drive to center field.\n",
      "4401 out of 5497\n",
      "Angel Pagan homers (9) on a fly ball to right field.    Gorkys Hernandez scores.\n",
      "4451 out of 5497\n",
      "Josh Donaldson homers (36) on a fly ball to left field.   Devon Travis scores.\n",
      "4501 out of 5497\n",
      "Teoscar Hernandez homers (4) on a line drive to left center field.   Evan Gattis scores.\n",
      "4551 out of 5497\n",
      "Odubel Herrera homers (15) on a fly ball to center field.   Roman Quinn scores.\n",
      "4601 out of 5497\n",
      "Carlos Gonzalez homers (24) on a fly ball to center field.   DJ LeMahieu scores.\n",
      "4651 out of 5497\n",
      "Salvador Perez homers (1) on a fly ball to left field.   Alex Gordon scores.\n",
      "4701 out of 5497\n",
      "Ryan Raburn homers (4) on a fly ball to left center field.\n",
      "4751 out of 5497\n",
      "Aaron Hicks homers (2) on a fly ball to right center field.\n",
      "4801 out of 5497\n",
      "Xander Bogaerts homers (4) on a fly ball to left center field.   Ryan Hanigan scores.    Mookie Betts scores.\n",
      "4851 out of 5497\n",
      "Gregory Polanco homers (7) on a fly ball to right center field.    Starling Marte scores.\n",
      "4901 out of 5497\n",
      "Brian Dozier homers (6) on a line drive to left field.\n",
      "4951 out of 5497\n",
      "Mike Trout homers (14) on a fly ball to left center field.\n",
      "5001 out of 5497\n",
      "Yasmany Tomas homers (16) on a fly ball to left center field.   Paul Goldschmidt scores.    Welington Castillo scores.\n",
      "5051 out of 5497\n",
      "Marcus Semien homers (13) on a fly ball to left field.   Jed Lowrie scores.    Yonder Alonso scores.\n",
      "5101 out of 5497\n",
      "Aaron Hicks homers (4) on a fly ball to left field.\n",
      "5151 out of 5497\n",
      "Danny Valencia homers (12) on a line drive to right center field.    Jed Lowrie scores.    Josh Reddick scores.\n",
      "5201 out of 5497\n",
      "Hernan Perez homers (11) on a fly ball to left center field.\n",
      "5251 out of 5497\n",
      "Miguel Cabrera homers (28) on a fly ball to center field.\n",
      "5301 out of 5497\n",
      "Buster Posey homers (10) on a fly ball to left field.\n",
      "5351 out of 5497\n",
      "Prince Fielder homers (4) on a line drive to right field.\n",
      "5401 out of 5497\n",
      "Jay Bruce homers (24) on a line drive to right field.\n",
      "5451 out of 5497\n",
      "Byron Buxton homers (2) on a fly ball to left field.   Kurt Suzuki scores.    Eddie Rosario scores.\n"
     ]
    }
   ],
   "source": [
    "# Create and upload each chunk\n",
    "for i, chunk_text in enumerate(chunks):\n",
    "    try:\n",
    "        # Create chunk objest from chunk of text\n",
    "        chunk = glm.Chunk(data={'string_value': chunk_text})\n",
    "        chunk.custom_metadata.append(glm.CustomMetadata(key=\"part\", string_value=f\"Part {i+1}\"))\n",
    "        # glm.CreateChunkRequest prepares the API request to upload the chunk to GCP\n",
    "        create_chunk_request = glm.CreateChunkRequest(parent=document_resource_name, chunk=chunk)\n",
    "        retriever_service_client.create_chunk(create_chunk_request)\n",
    "        if i % 50 == 0:\n",
    "            print(f'{i+1} out of {len(chunks)}')\n",
    "            print(chunk_text)\n",
    "    except:\n",
    "        print(chunk_text)\n",
    "        print(i)\n",
    "        print(type(chunk_text))"
   ]
  },
  {
   "cell_type": "markdown",
   "id": "52b2544a-c241-43f8-a295-5d2d1637e85f",
   "metadata": {
    "tags": []
   },
   "source": [
    "## Query the corpus"
   ]
  },
  {
   "cell_type": "markdown",
   "id": "6f859bf4-ddaa-4f9d-8355-e9dd157e1d67",
   "metadata": {},
   "source": [
    "Perform semantic search"
   ]
  },
  {
   "cell_type": "code",
   "execution_count": 36,
   "id": "89bf47a5-12b3-4d56-b921-418fc8564179",
   "metadata": {
    "tags": []
   },
   "outputs": [
    {
     "name": "stdout",
     "output_type": "stream",
     "text": [
      "The best hit is a grand slam, which is worth four runs. In this game, there were three grand slams hit: one by Josh Bell of the Pittsburgh Pirates, one by Khris Davis of the Oakland Athletics, and one by Adam Eaton of the Chicago White Sox.\n",
      "\n",
      "\n",
      "Adam Eaton hits a grand slam (11) to right field.   JB Shuck scores.    Tim Anderson scores.    Jason Coats scores.\n",
      "\n",
      "\n",
      "answer {\n",
      "  content {\n",
      "    parts {\n",
      "      text: \"The best hit is a grand slam, which is worth four runs. In this game, there were three grand slams hit: one by Josh Bell of the Pittsburgh Pirates, one by Khris Davis of the Oakland Athletics, and one by Adam Eaton of the Chicago White Sox.\"\n",
      "    }\n",
      "  }\n",
      "  finish_reason: STOP\n",
      "  safety_ratings {\n",
      "    category: HARM_CATEGORY_SEXUALLY_EXPLICIT\n",
      "    probability: NEGLIGIBLE\n",
      "  }\n",
      "  safety_ratings {\n",
      "    category: HARM_CATEGORY_HATE_SPEECH\n",
      "    probability: NEGLIGIBLE\n",
      "  }\n",
      "  safety_ratings {\n",
      "    category: HARM_CATEGORY_HARASSMENT\n",
      "    probability: NEGLIGIBLE\n",
      "  }\n",
      "  safety_ratings {\n",
      "    category: HARM_CATEGORY_DANGEROUS_CONTENT\n",
      "    probability: NEGLIGIBLE\n",
      "  }\n",
      "  grounding_attributions {\n",
      "    content {\n",
      "      parts {\n",
      "        text: \"Adam Eaton hits a grand slam (11) to right field.   JB Shuck scores.    Tim Anderson scores.    Jason Coats scores.\"\n",
      "      }\n",
      "    }\n",
      "    source_id {\n",
      "      semantic_retriever_chunk {\n",
      "        source: \"corpora/tiktoks-from-mlb-ecz04so6tdfy\"\n",
      "        chunk: \"corpora/tiktoks-from-mlb-ecz04so6tdfy/documents/2016mlbhomeruns-nua8bwthg1mp/chunks/ihad68dhgrxe\"\n",
      "      }\n",
      "    }\n",
      "  }\n",
      "  grounding_attributions {\n",
      "    content {\n",
      "      parts {\n",
      "        text: \"Khris Davis hits a grand slam (11) to left center field.   Stephen Vogt scores.    Coco Crisp scores.    Josh Reddick scores.\"\n",
      "      }\n",
      "    }\n",
      "    source_id {\n",
      "      semantic_retriever_chunk {\n",
      "        source: \"corpora/tiktoks-from-mlb-ecz04so6tdfy\"\n",
      "        chunk: \"corpora/tiktoks-from-mlb-ecz04so6tdfy/documents/2016mlbhomeruns-nua8bwthg1mp/chunks/wn3qnl6h9os2\"\n",
      "      }\n",
      "    }\n",
      "  }\n",
      "  grounding_attributions {\n",
      "    content {\n",
      "      parts {\n",
      "        text: \"Josh Bell hits a grand slam (1) to right field.   Starling Marte scores.    Matt Joyce scores.    Eric Fryer scores.\"\n",
      "      }\n",
      "    }\n",
      "    source_id {\n",
      "      semantic_retriever_chunk {\n",
      "        source: \"corpora/tiktoks-from-mlb-ecz04so6tdfy\"\n",
      "        chunk: \"corpora/tiktoks-from-mlb-ecz04so6tdfy/documents/2016mlbhomeruns-nua8bwthg1mp/chunks/m768330vzmgt\"\n",
      "      }\n",
      "    }\n",
      "  }\n",
      "  grounding_attributions {\n",
      "    content {\n",
      "      parts {\n",
      "        text: \"Matt Szczur hits a grand slam (2) to left center field.   Jason Heyward scores.    Ben Zobrist scores.    Anthony Rizzo scores.\"\n",
      "      }\n",
      "    }\n",
      "    source_id {\n",
      "      semantic_retriever_chunk {\n",
      "        source: \"corpora/tiktoks-from-mlb-ecz04so6tdfy\"\n",
      "        chunk: \"corpora/tiktoks-from-mlb-ecz04so6tdfy/documents/2016mlbhomeruns-nua8bwthg1mp/chunks/37miakuhbeq5\"\n",
      "      }\n",
      "    }\n",
      "  }\n",
      "  grounding_attributions {\n",
      "    content {\n",
      "      parts {\n",
      "        text: \"Ben Zobrist homers (2) on a line drive to right center field.    Tommy La Stella scores.    Anthony Rizzo scores.\"\n",
      "      }\n",
      "    }\n",
      "    source_id {\n",
      "      semantic_retriever_chunk {\n",
      "        source: \"corpora/tiktoks-from-mlb-ecz04so6tdfy\"\n",
      "        chunk: \"corpora/tiktoks-from-mlb-ecz04so6tdfy/documents/2016mlbhomeruns-nua8bwthg1mp/chunks/jistf56dpemw\"\n",
      "      }\n",
      "    }\n",
      "  }\n",
      "  grounding_attributions {\n",
      "    content {\n",
      "      parts {\n",
      "        text: \"Adrian Gonzalez hits a grand slam (9) to center field.   Chase Utley scores.    Corey Seager scores.    Justin Turner scores.\"\n",
      "      }\n",
      "    }\n",
      "    source_id {\n",
      "      semantic_retriever_chunk {\n",
      "        source: \"corpora/tiktoks-from-mlb-ecz04so6tdfy\"\n",
      "        chunk: \"corpora/tiktoks-from-mlb-ecz04so6tdfy/documents/2016mlbhomeruns-nua8bwthg1mp/chunks/nm4bb0p6vfw\"\n",
      "      }\n",
      "    }\n",
      "  }\n",
      "  grounding_attributions {\n",
      "    content {\n",
      "      parts {\n",
      "        text: \"Brock Holt homers (3) on a line drive to right center field.    Travis Shaw scores.\"\n",
      "      }\n",
      "    }\n",
      "    source_id {\n",
      "      semantic_retriever_chunk {\n",
      "        source: \"corpora/tiktoks-from-mlb-ecz04so6tdfy\"\n",
      "        chunk: \"corpora/tiktoks-from-mlb-ecz04so6tdfy/documents/2016mlbhomeruns-nua8bwthg1mp/chunks/5slczc6voq11\"\n",
      "      }\n",
      "    }\n",
      "  }\n",
      "  grounding_attributions {\n",
      "    content {\n",
      "      parts {\n",
      "        text: \"Brock Holt homers (4) on a fly ball to right center field.    Hanley Ramirez scores.\"\n",
      "      }\n",
      "    }\n",
      "    source_id {\n",
      "      semantic_retriever_chunk {\n",
      "        source: \"corpora/tiktoks-from-mlb-ecz04so6tdfy\"\n",
      "        chunk: \"corpora/tiktoks-from-mlb-ecz04so6tdfy/documents/2016mlbhomeruns-nua8bwthg1mp/chunks/zjqpjejq8hk1\"\n",
      "      }\n",
      "    }\n",
      "  }\n",
      "  grounding_attributions {\n",
      "    content {\n",
      "      parts {\n",
      "        text: \"Ben Zobrist homers (5) on a line drive to right field.    Jason Heyward scores.    Anthony Rizzo scores.\"\n",
      "      }\n",
      "    }\n",
      "    source_id {\n",
      "      semantic_retriever_chunk {\n",
      "        source: \"corpora/tiktoks-from-mlb-ecz04so6tdfy\"\n",
      "        chunk: \"corpora/tiktoks-from-mlb-ecz04so6tdfy/documents/2016mlbhomeruns-nua8bwthg1mp/chunks/5av1dhkt80ff\"\n",
      "      }\n",
      "    }\n",
      "  }\n",
      "}\n",
      "answerable_probability: 0.03113069012761116\n",
      "input_feedback {\n",
      "  safety_ratings {\n",
      "    category: HARM_CATEGORY_SEXUALLY_EXPLICIT\n",
      "    probability: NEGLIGIBLE\n",
      "  }\n",
      "  safety_ratings {\n",
      "    category: HARM_CATEGORY_HATE_SPEECH\n",
      "    probability: NEGLIGIBLE\n",
      "  }\n",
      "  safety_ratings {\n",
      "    category: HARM_CATEGORY_HARASSMENT\n",
      "    probability: NEGLIGIBLE\n",
      "  }\n",
      "  safety_ratings {\n",
      "    category: HARM_CATEGORY_DANGEROUS_CONTENT\n",
      "    probability: NEGLIGIBLE\n",
      "  }\n",
      "}\n",
      "\n"
     ]
    }
   ],
   "source": [
    "# Define the user query\n",
    "user_query = \"Show be the best hit\"\n",
    "content = glm.Content(parts=[glm.Part(text=user_query)])\n",
    "\n",
    "# Configure the semantic retriever\n",
    "retriever_config = glm.SemanticRetrieverConfig(source=corpus_resource_name, query=content)\n",
    "\n",
    "# Create the request\n",
    "generate_answer_request = glm.GenerateAnswerRequest(\n",
    "    model=\"models/aqa\",\n",
    "    contents=[content],\n",
    "    semantic_retriever=retriever_config,\n",
    "    answer_style=\"ABSTRACTIVE\"  # Options: ABSTRACTIVE, VERBOSE, EXTRACTIVE\n",
    ")\n",
    "\n",
    "# Make the request\n",
    "aqa_response = generative_service_client.generate_answer(generate_answer_request)\n",
    "\n",
    "# Output the response\n",
    "# final answer based on the model's understanding and retrieved information.\n",
    "\n",
    "print(aqa_response.answer.content.parts[0].text)\n",
    "print('\\n')\n",
    "# This outputs the first piece of source material that contributed to the AI's answer.\n",
    "print(aqa_response.answer.grounding_attributions[0].content.parts[0].text)\n",
    "print('\\n')\n",
    "print(aqa_response)"
   ]
  },
  {
   "cell_type": "code",
   "execution_count": 49,
   "id": "edc269b4-f73f-4809-af64-81763d99e9da",
   "metadata": {
    "tags": []
   },
   "outputs": [],
   "source": [
    "results = aqa_response.answer.grounding_attributions"
   ]
  },
  {
   "cell_type": "code",
   "execution_count": 52,
   "id": "a287b859-b0bc-4ff8-b1eb-1efd62d40525",
   "metadata": {
    "tags": []
   },
   "outputs": [],
   "source": [
    "list_results = []\n",
    "for i in range(len(results)):\n",
    "    list_results.append(results[i].content.parts[0].text)"
   ]
  },
  {
   "cell_type": "code",
   "execution_count": 61,
   "id": "e6295ca8-3127-417e-b70b-518759ddbab6",
   "metadata": {
    "tags": []
   },
   "outputs": [
    {
     "data": {
      "text/plain": [
       "['https://sporty-clips.mlb.com/NE1vNUJfWGw0TUFRPT1fQTFKWkFsRURCd3NBRFZFRFZBQUFCRk5WQUZnQUJsSUFCVnhYQXdSUUNBTURCd3BU.mp4',\n",
       " 'https://sporty-clips.mlb.com/cjhCUjFfWGw0TUFRPT1fVjFOUlhGMVdWVlFBWGxCUUFnQUFCRkplQUFOVVYxRUFVVjBNQ1ZVREJRb0dVd0FE.mp4',\n",
       " 'https://sporty-clips.mlb.com/TTd4ZDNfWGw0TUFRPT1fRGdZREIxTlJYMWNBRFZGV1V3QUFCUWRRQUZrRFVGWUFBZ01HQVFVTkF3SlFBZ29B.mp4',\n",
       " 'https://sporty-clips.mlb.com/eDlLREJfWGw0TUFRPT1fVWdnRlhGZFJBd29BV1ZjREF3QUFCQUFDQUFBR1VsVUFCVk5RQXdJRlZ3QUJDVlpm.mp4',\n",
       " 'https://sporty-clips.mlb.com/cTZZNmdfWGw0TUFRPT1fVWdBRFZnSlNWQVlBRFZKVUF3QUFVZzhDQUZnRFdnQUFVRndOVmxBRUJsRlVCQUpU.mp4',\n",
       " 'https://sporty-clips.mlb.com/NTJvM05fWGw0TUFRPT1fQkZSUkJRY0hWUVFBV1FZRUFBQUFWQVZTQUZrRkIxSUFVMUpVVXdCUkNGVUJCQXBS.mp4',\n",
       " 'https://sporty-clips.mlb.com/NTJvS1hfWGw0TUFRPT1fQmxJRkJsME1VQUlBV2xRSFZBQUFWRlVGQUFNRVVBUUFBMUpSVTFVTUNBWUVWbFlB.mp4',\n",
       " 'https://sporty-clips.mlb.com/V2R6YVlfWGw0TUFRPT1fQVFOWVYxUUVWbFFBWFZJSFZnQUFBRmNIQUZrR0FnQUFBd1pUQkFOWEJndFVCRkFE.mp4',\n",
       " 'https://sporty-clips.mlb.com/OTkzeVFfWGw0TUFRPT1fRGxjQUJsSU1CVmNBVzFSUUFBQUFVbE5RQUZnRlcxUUFVRjFYQ0ZZQlV3TlhCMUJR.mp4']"
      ]
     },
     "execution_count": 61,
     "metadata": {},
     "output_type": "execute_result"
    }
   ],
   "source": [
    "df_homeruns.iloc[[id for title, id in result_dict.items() if title in list_results]]['video'].tolist()"
   ]
  },
  {
   "cell_type": "markdown",
   "id": "7bde2c28-2d35-4e68-9ddc-08b0a2bc92bf",
   "metadata": {},
   "source": [
    "## Move the first video to bucket"
   ]
  },
  {
   "cell_type": "code",
   "execution_count": 1,
   "id": "e06e64c1-1c40-490e-8dbc-5ea08675a714",
   "metadata": {},
   "outputs": [
    {
     "name": "stdout",
     "output_type": "stream",
     "text": [
      "Downloaded video to video.mp4\n",
      "File uploaded to gs://mlb_hackathon_bucket/videos/video.mp4\n"
     ]
    }
   ],
   "source": [
    "import requests\n",
    "from google.cloud import storage\n",
    "\n",
    "# Step 1: Download the video from the URL\n",
    "video_url = \"https://sporty-clips.mlb.com/NE1vNUJfWGw0TUFRPT1fQTFKWkFsRURCd3NBRFZFRFZBQUFCRk5WQUZnQUJsSUFCVnhYQXdSUUNBTURCd3BU.mp4\"\n",
    "local_filename = \"video.mp4\"\n",
    "\n",
    "response = requests.get(video_url)\n",
    "if response.status_code == 200:\n",
    "    with open(local_filename, \"wb\") as f:\n",
    "        f.write(response.content)\n",
    "    print(f\"Downloaded video to {local_filename}\")\n",
    "else:\n",
    "    print(\"Failed to download the video.\")\n",
    "\n",
    "# Step 2: Upload the video to your GCP bucket into the \"videos/\" folder\n",
    "bucket_name = \"mlb_hackathon_bucket\"  # Replace with your bucket name\n",
    "destination_blob_name = \"videos/video.mp4\"  # This creates a folder-like prefix in your bucket\n",
    "\n",
    "storage_client = storage.Client()\n",
    "bucket = storage_client.bucket(bucket_name)\n",
    "blob = bucket.blob(destination_blob_name)\n",
    "\n",
    "blob.upload_from_filename(local_filename)\n",
    "print(f\"File uploaded to gs://{bucket_name}/{destination_blob_name}\")\n"
   ]
  },
  {
   "cell_type": "code",
   "execution_count": null,
   "id": "6f4f4b49-5598-462e-986e-68bc73c5669b",
   "metadata": {},
   "outputs": [],
   "source": []
  }
 ],
 "metadata": {
  "environment": {
   "kernel": "conda-base-py",
   "name": "workbench-notebooks.m126",
   "type": "gcloud",
   "uri": "us-docker.pkg.dev/deeplearning-platform-release/gcr.io/workbench-notebooks:m126"
  },
  "kernelspec": {
   "display_name": "Python 3 (ipykernel) (Local)",
   "language": "python",
   "name": "conda-base-py"
  },
  "language_info": {
   "codemirror_mode": {
    "name": "ipython",
    "version": 3
   },
   "file_extension": ".py",
   "mimetype": "text/x-python",
   "name": "python",
   "nbconvert_exporter": "python",
   "pygments_lexer": "ipython3",
   "version": "3.10.15"
  }
 },
 "nbformat": 4,
 "nbformat_minor": 5
}
