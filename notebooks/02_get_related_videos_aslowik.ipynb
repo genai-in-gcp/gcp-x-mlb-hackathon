{
 "cells": [
  {
   "cell_type": "code",
   "execution_count": 1,
   "id": "87ebe083-24c9-42dd-adb7-cf0b8c772c00",
   "metadata": {
    "tags": []
   },
   "outputs": [],
   "source": [
    "from sklearn.feature_extraction.text import TfidfVectorizer\n",
    "from sklearn.metrics.pairwise import cosine_similarity\n",
    "import pandas as pd"
   ]
  },
  {
   "cell_type": "code",
   "execution_count": 2,
   "id": "9a255ddf-fe4d-4e70-a173-bc9f972e2e0d",
   "metadata": {
    "tags": []
   },
   "outputs": [],
   "source": [
    "pd.set_option('display.max_colwidth', None)"
   ]
  },
  {
   "cell_type": "markdown",
   "id": "ff741466-f8a4-4ec9-a240-0362288cfd3b",
   "metadata": {
    "tags": []
   },
   "source": [
    "### Knowledge Base"
   ]
  },
  {
   "cell_type": "code",
   "execution_count": 3,
   "id": "d14f4d3e-6df1-46a5-a0cd-dd1b4284fb4c",
   "metadata": {
    "tags": []
   },
   "outputs": [],
   "source": [
    "df_videos = pd.read_csv('2016-mlb-homeruns.csv')"
   ]
  },
  {
   "cell_type": "code",
   "execution_count": 4,
   "id": "eb3ca322-58e4-4782-85f9-36feb963884c",
   "metadata": {
    "tags": []
   },
   "outputs": [
    {
     "data": {
      "text/plain": [
       "(5499, 6)"
      ]
     },
     "execution_count": 4,
     "metadata": {},
     "output_type": "execute_result"
    }
   ],
   "source": [
    "df_videos.shape"
   ]
  },
  {
   "cell_type": "code",
   "execution_count": 5,
   "id": "5edc1460-fa2e-4d18-b1d0-d7b5d0ddae58",
   "metadata": {
    "tags": []
   },
   "outputs": [
    {
     "data": {
      "text/html": [
       "<div>\n",
       "<style scoped>\n",
       "    .dataframe tbody tr th:only-of-type {\n",
       "        vertical-align: middle;\n",
       "    }\n",
       "\n",
       "    .dataframe tbody tr th {\n",
       "        vertical-align: top;\n",
       "    }\n",
       "\n",
       "    .dataframe thead th {\n",
       "        text-align: right;\n",
       "    }\n",
       "</style>\n",
       "<table border=\"1\" class=\"dataframe\">\n",
       "  <thead>\n",
       "    <tr style=\"text-align: right;\">\n",
       "      <th></th>\n",
       "      <th>play_id</th>\n",
       "      <th>title</th>\n",
       "      <th>ExitVelocity</th>\n",
       "      <th>HitDistance</th>\n",
       "      <th>LaunchAngle</th>\n",
       "      <th>video</th>\n",
       "    </tr>\n",
       "  </thead>\n",
       "  <tbody>\n",
       "    <tr>\n",
       "      <th>0</th>\n",
       "      <td>5b254850-9e14-48d2-8baf-c3e12ecbe68d</td>\n",
       "      <td>John Jaso homers (6) on a fly ball to center field.</td>\n",
       "      <td>102.9</td>\n",
       "      <td>412.0</td>\n",
       "      <td>25.0</td>\n",
       "      <td>https://sporty-clips.mlb.com/YjlLTlpfWGw0TUFRPT1fQTFOVFVWQU1Vd0lBQVFjRFVnQUFDVkpVQUZsWEFnY0FVVlpRQVFGUVVsRUFCZ29D.mp4</td>\n",
       "    </tr>\n",
       "  </tbody>\n",
       "</table>\n",
       "</div>"
      ],
      "text/plain": [
       "                                play_id  \\\n",
       "0  5b254850-9e14-48d2-8baf-c3e12ecbe68d   \n",
       "\n",
       "                                                 title  ExitVelocity  \\\n",
       "0  John Jaso homers (6) on a fly ball to center field.         102.9   \n",
       "\n",
       "   HitDistance  LaunchAngle  \\\n",
       "0        412.0         25.0   \n",
       "\n",
       "                                                                                                                   video  \n",
       "0  https://sporty-clips.mlb.com/YjlLTlpfWGw0TUFRPT1fQTFOVFVWQU1Vd0lBQVFjRFVnQUFDVkpVQUZsWEFnY0FVVlpRQVFGUVVsRUFCZ29D.mp4  "
      ]
     },
     "execution_count": 5,
     "metadata": {},
     "output_type": "execute_result"
    }
   ],
   "source": [
    "df_videos.head(1)"
   ]
  },
  {
   "cell_type": "code",
   "execution_count": 6,
   "id": "84ed4687-1103-45ec-82a0-e2b2d1a51ce3",
   "metadata": {
    "tags": []
   },
   "outputs": [
    {
     "data": {
      "text/html": [
       "<div>\n",
       "<style scoped>\n",
       "    .dataframe tbody tr th:only-of-type {\n",
       "        vertical-align: middle;\n",
       "    }\n",
       "\n",
       "    .dataframe tbody tr th {\n",
       "        vertical-align: top;\n",
       "    }\n",
       "\n",
       "    .dataframe thead th {\n",
       "        text-align: right;\n",
       "    }\n",
       "</style>\n",
       "<table border=\"1\" class=\"dataframe\">\n",
       "  <thead>\n",
       "    <tr style=\"text-align: right;\">\n",
       "      <th></th>\n",
       "      <th>play_id</th>\n",
       "      <th>title</th>\n",
       "      <th>ExitVelocity</th>\n",
       "      <th>HitDistance</th>\n",
       "      <th>LaunchAngle</th>\n",
       "      <th>video</th>\n",
       "    </tr>\n",
       "  </thead>\n",
       "  <tbody>\n",
       "    <tr>\n",
       "      <th>1561</th>\n",
       "      <td>03adb020-65cc-475f-915c-c8419ff1777c</td>\n",
       "      <td>NaN</td>\n",
       "      <td>102.8</td>\n",
       "      <td>0.0</td>\n",
       "      <td>30.0</td>\n",
       "      <td>https://sporty-clips.mlb.com/Qm85bjlfWGw0TUFRPT1fQmdJQUFBWUVWQUlBRGxkUkJRQUFCZ01BQUZnRVZnSUFVVjBCQVFwVFZ3SlNCd1VG.mp4</td>\n",
       "    </tr>\n",
       "    <tr>\n",
       "      <th>4447</th>\n",
       "      <td>1742069f-79c5-41f0-b95a-5adaff39b02f</td>\n",
       "      <td>NaN</td>\n",
       "      <td>NaN</td>\n",
       "      <td>0.0</td>\n",
       "      <td>NaN</td>\n",
       "      <td>https://sporty-clips.mlb.com/REEzNERfWGw0TUFRPT1fQndaVlZsUUNYMVFBRDF0UlV3QUFBRkJXQUFNTVZnQUFCd1JSVVZWVEFnb0hBQUFB.mp4</td>\n",
       "    </tr>\n",
       "  </tbody>\n",
       "</table>\n",
       "</div>"
      ],
      "text/plain": [
       "                                   play_id title  ExitVelocity  HitDistance  \\\n",
       "1561  03adb020-65cc-475f-915c-c8419ff1777c   NaN         102.8          0.0   \n",
       "4447  1742069f-79c5-41f0-b95a-5adaff39b02f   NaN           NaN          0.0   \n",
       "\n",
       "      LaunchAngle  \\\n",
       "1561         30.0   \n",
       "4447          NaN   \n",
       "\n",
       "                                                                                                                      video  \n",
       "1561  https://sporty-clips.mlb.com/Qm85bjlfWGw0TUFRPT1fQmdJQUFBWUVWQUlBRGxkUkJRQUFCZ01BQUZnRVZnSUFVVjBCQVFwVFZ3SlNCd1VG.mp4  \n",
       "4447  https://sporty-clips.mlb.com/REEzNERfWGw0TUFRPT1fQndaVlZsUUNYMVFBRDF0UlV3QUFBRkJXQUFNTVZnQUFCd1JSVVZWVEFnb0hBQUFB.mp4  "
      ]
     },
     "execution_count": 6,
     "metadata": {},
     "output_type": "execute_result"
    }
   ],
   "source": [
    "df_videos[df_videos['title'].isnull()]"
   ]
  },
  {
   "cell_type": "code",
   "execution_count": 7,
   "id": "96554c62-98f0-4642-b873-68c40c024adb",
   "metadata": {
    "tags": []
   },
   "outputs": [],
   "source": [
    "df_videos = df_videos[~df_videos['title'].isnull()]"
   ]
  },
  {
   "cell_type": "code",
   "execution_count": 8,
   "id": "801ead15-289d-4a76-99bb-f10f3f57aef0",
   "metadata": {
    "tags": []
   },
   "outputs": [
    {
     "data": {
      "text/plain": [
       "(5497, 6)"
      ]
     },
     "execution_count": 8,
     "metadata": {},
     "output_type": "execute_result"
    }
   ],
   "source": [
    "df_videos.shape"
   ]
  },
  {
   "cell_type": "markdown",
   "id": "569804a8-6c86-4e86-84e8-0c911f19dc8b",
   "metadata": {
    "jp-MarkdownHeadingCollapsed": true,
    "tags": []
   },
   "source": [
    "# 1. NLP approach"
   ]
  },
  {
   "cell_type": "markdown",
   "id": "e810c334-2a2d-4457-859c-5fe9d3a8cfb8",
   "metadata": {},
   "source": [
    "### Preprocessing and Indexing"
   ]
  },
  {
   "cell_type": "code",
   "execution_count": 23,
   "id": "0514b84b-32b9-4358-a50d-36b97a1435e3",
   "metadata": {
    "tags": []
   },
   "outputs": [],
   "source": [
    "vectorizer = TfidfVectorizer(stop_words='english')\n",
    "tfidf_matrix = vectorizer.fit_transform(df_videos['title'])"
   ]
  },
  {
   "cell_type": "markdown",
   "id": "6f44308a-a174-430d-bbba-d436fd1fe300",
   "metadata": {
    "tags": []
   },
   "source": [
    "### Searching"
   ]
  },
  {
   "cell_type": "code",
   "execution_count": 24,
   "id": "442c0d7c-03f4-43b8-8e0e-1978cd4ca6e6",
   "metadata": {
    "tags": []
   },
   "outputs": [],
   "source": [
    "def search_videos(query, top_n=3):\n",
    "    # Preprocess the query\n",
    "    query_tfidf = vectorizer.transform([query])\n",
    "    # Compute similarity scores\n",
    "    similarities = cosine_similarity(query_tfidf, tfidf_matrix).flatten()\n",
    "    # Get top N results\n",
    "    top_indices = similarities.argsort()[-top_n:][::-1]\n",
    "    results = df_videos.iloc[top_indices]\n",
    "    results['similarity'] = similarities[top_indices]\n",
    "    return results"
   ]
  },
  {
   "cell_type": "markdown",
   "id": "37b7ec30-40b7-4d58-9d22-2864c83c89a8",
   "metadata": {},
   "source": [
    "### Example usage"
   ]
  },
  {
   "cell_type": "code",
   "execution_count": 42,
   "id": "bef6856d-43e4-486a-a2d6-a5f004a936b6",
   "metadata": {
    "tags": []
   },
   "outputs": [
    {
     "name": "stderr",
     "output_type": "stream",
     "text": [
      "/var/tmp/ipykernel_32464/3401540904.py:9: SettingWithCopyWarning: \n",
      "A value is trying to be set on a copy of a slice from a DataFrame.\n",
      "Try using .loc[row_indexer,col_indexer] = value instead\n",
      "\n",
      "See the caveats in the documentation: https://pandas.pydata.org/pandas-docs/stable/user_guide/indexing.html#returning-a-view-versus-a-copy\n",
      "  results['similarity'] = similarities[top_indices]\n"
     ]
    }
   ],
   "source": [
    "user_query = \"Steven Souza\"\n",
    "results = search_videos(user_query)"
   ]
  },
  {
   "cell_type": "code",
   "execution_count": 43,
   "id": "5876f3a1-bad3-42e9-9b87-371a67b4d1b1",
   "metadata": {
    "tags": []
   },
   "outputs": [
    {
     "data": {
      "text/html": [
       "<div>\n",
       "<style scoped>\n",
       "    .dataframe tbody tr th:only-of-type {\n",
       "        vertical-align: middle;\n",
       "    }\n",
       "\n",
       "    .dataframe tbody tr th {\n",
       "        vertical-align: top;\n",
       "    }\n",
       "\n",
       "    .dataframe thead th {\n",
       "        text-align: right;\n",
       "    }\n",
       "</style>\n",
       "<table border=\"1\" class=\"dataframe\">\n",
       "  <thead>\n",
       "    <tr style=\"text-align: right;\">\n",
       "      <th></th>\n",
       "      <th>play_id</th>\n",
       "      <th>title</th>\n",
       "      <th>ExitVelocity</th>\n",
       "      <th>HitDistance</th>\n",
       "      <th>LaunchAngle</th>\n",
       "      <th>video</th>\n",
       "      <th>similarity</th>\n",
       "    </tr>\n",
       "  </thead>\n",
       "  <tbody>\n",
       "    <tr>\n",
       "      <th>4467</th>\n",
       "      <td>57d0123c-fea8-4466-bd04-e08835e1c768</td>\n",
       "      <td>Steven Souza Jr.  homers (2) on a fly ball to center field.</td>\n",
       "      <td>103.4</td>\n",
       "      <td>NaN</td>\n",
       "      <td>32.0</td>\n",
       "      <td>https://sporty-clips.mlb.com/MzRsZ05fWGw0TUFRPT1fQXdZRlZGVUdWVkVBWGdkVFhnQUFCUUJRQUFOUlUxVUFWMVVOQ0FBQVZBSUdCd1Jl.mp4</td>\n",
       "      <td>0.821299</td>\n",
       "    </tr>\n",
       "    <tr>\n",
       "      <th>1856</th>\n",
       "      <td>1ef7e9f7-b2be-482e-ada4-081d77e3d3c8</td>\n",
       "      <td>Steven Souza Jr.  homers (9) on a fly ball to left field.</td>\n",
       "      <td>106.3</td>\n",
       "      <td>373.0</td>\n",
       "      <td>22.0</td>\n",
       "      <td>https://sporty-clips.mlb.com/S2w2ZE5fWGw0TUFRPT1fQjFRSFV3RU5BQVVBV2xCUUF3QUFDUVFEQUFCUkFsVUFBbDBFVkFRQ1ZBQUJBMUZl.mp4</td>\n",
       "      <td>0.820242</td>\n",
       "    </tr>\n",
       "    <tr>\n",
       "      <th>3352</th>\n",
       "      <td>36ba3f7c-482c-49e5-a508-23b5da345fe1</td>\n",
       "      <td>Steven Souza Jr.  homers (6) on a fly ball to left field.</td>\n",
       "      <td>103.6</td>\n",
       "      <td>402.0</td>\n",
       "      <td>30.0</td>\n",
       "      <td>https://sporty-clips.mlb.com/MFdvcUtfWGw0TUFRPT1fQlFjREJWZFNVVkVBREZvQUJRQUFDRk5UQUFBQVUxa0FBRlpYQlZkVUFnZFFWbGRY.mp4</td>\n",
       "      <td>0.820242</td>\n",
       "    </tr>\n",
       "  </tbody>\n",
       "</table>\n",
       "</div>"
      ],
      "text/plain": [
       "                                   play_id  \\\n",
       "4467  57d0123c-fea8-4466-bd04-e08835e1c768   \n",
       "1856  1ef7e9f7-b2be-482e-ada4-081d77e3d3c8   \n",
       "3352  36ba3f7c-482c-49e5-a508-23b5da345fe1   \n",
       "\n",
       "                                                            title  \\\n",
       "4467  Steven Souza Jr.  homers (2) on a fly ball to center field.   \n",
       "1856    Steven Souza Jr.  homers (9) on a fly ball to left field.   \n",
       "3352    Steven Souza Jr.  homers (6) on a fly ball to left field.   \n",
       "\n",
       "      ExitVelocity  HitDistance  LaunchAngle  \\\n",
       "4467         103.4          NaN         32.0   \n",
       "1856         106.3        373.0         22.0   \n",
       "3352         103.6        402.0         30.0   \n",
       "\n",
       "                                                                                                                      video  \\\n",
       "4467  https://sporty-clips.mlb.com/MzRsZ05fWGw0TUFRPT1fQXdZRlZGVUdWVkVBWGdkVFhnQUFCUUJRQUFOUlUxVUFWMVVOQ0FBQVZBSUdCd1Jl.mp4   \n",
       "1856  https://sporty-clips.mlb.com/S2w2ZE5fWGw0TUFRPT1fQjFRSFV3RU5BQVVBV2xCUUF3QUFDUVFEQUFCUkFsVUFBbDBFVkFRQ1ZBQUJBMUZl.mp4   \n",
       "3352  https://sporty-clips.mlb.com/MFdvcUtfWGw0TUFRPT1fQlFjREJWZFNVVkVBREZvQUJRQUFDRk5UQUFBQVUxa0FBRlpYQlZkVUFnZFFWbGRY.mp4   \n",
       "\n",
       "      similarity  \n",
       "4467    0.821299  \n",
       "1856    0.820242  \n",
       "3352    0.820242  "
      ]
     },
     "execution_count": 43,
     "metadata": {},
     "output_type": "execute_result"
    }
   ],
   "source": [
    "results"
   ]
  },
  {
   "cell_type": "code",
   "execution_count": 48,
   "id": "c9ed59f1-6885-40b9-8f39-74ea7acb3b84",
   "metadata": {
    "tags": []
   },
   "outputs": [
    {
     "name": "stderr",
     "output_type": "stream",
     "text": [
      "/var/tmp/ipykernel_32464/3401540904.py:9: SettingWithCopyWarning: \n",
      "A value is trying to be set on a copy of a slice from a DataFrame.\n",
      "Try using .loc[row_indexer,col_indexer] = value instead\n",
      "\n",
      "See the caveats in the documentation: https://pandas.pydata.org/pandas-docs/stable/user_guide/indexing.html#returning-a-view-versus-a-copy\n",
      "  results['similarity'] = similarities[top_indices]\n"
     ]
    }
   ],
   "source": [
    "user_query = \"Show me a nice video when ball was out of the field\"\n",
    "results = search_videos(user_query)"
   ]
  },
  {
   "cell_type": "code",
   "execution_count": 49,
   "id": "6f272bb0-0c03-40f5-aa62-69d9d01a3459",
   "metadata": {
    "tags": []
   },
   "outputs": [
    {
     "data": {
      "text/html": [
       "<div>\n",
       "<style scoped>\n",
       "    .dataframe tbody tr th:only-of-type {\n",
       "        vertical-align: middle;\n",
       "    }\n",
       "\n",
       "    .dataframe tbody tr th {\n",
       "        vertical-align: top;\n",
       "    }\n",
       "\n",
       "    .dataframe thead th {\n",
       "        text-align: right;\n",
       "    }\n",
       "</style>\n",
       "<table border=\"1\" class=\"dataframe\">\n",
       "  <thead>\n",
       "    <tr style=\"text-align: right;\">\n",
       "      <th></th>\n",
       "      <th>play_id</th>\n",
       "      <th>title</th>\n",
       "      <th>ExitVelocity</th>\n",
       "      <th>HitDistance</th>\n",
       "      <th>LaunchAngle</th>\n",
       "      <th>video</th>\n",
       "      <th>similarity</th>\n",
       "    </tr>\n",
       "  </thead>\n",
       "  <tbody>\n",
       "    <tr>\n",
       "      <th>1272</th>\n",
       "      <td>d4379cb8-4592-4de7-885a-77d02a383501</td>\n",
       "      <td>J.D. Martinez homers (5) on a fly ball to center field.</td>\n",
       "      <td>106.8</td>\n",
       "      <td>423.0</td>\n",
       "      <td>31.0</td>\n",
       "      <td>https://sporty-clips.mlb.com/cjhCNGRfWGw0TUFRPT1fVWdWU1UxMVhCQW9BREZjTFZBQUFWVk5SQUZrTlZnQUFCVkpSQUFGVUFndFdCUUpY.mp4</td>\n",
       "      <td>0.290461</td>\n",
       "    </tr>\n",
       "    <tr>\n",
       "      <th>4812</th>\n",
       "      <td>24325967-9e9a-4f60-8a4d-1d87ef41042e</td>\n",
       "      <td>J.D. Martinez homers (6) on a fly ball to center field.</td>\n",
       "      <td>102.4</td>\n",
       "      <td>395.0</td>\n",
       "      <td>34.0</td>\n",
       "      <td>https://sporty-clips.mlb.com/ZThRYnlfWGw0TUFRPT1fQkFWU1ZsRU5VQVVBQVFjTEJ3QUFWd0JXQUZsVVZ3VUFBd0VOQjFaVEJRSlZCQUFE.mp4</td>\n",
       "      <td>0.290461</td>\n",
       "    </tr>\n",
       "    <tr>\n",
       "      <th>4639</th>\n",
       "      <td>19d606ea-32ca-47a0-ae43-3d5471f44648</td>\n",
       "      <td>J.D. Martinez homers (1) on a fly ball to left field.</td>\n",
       "      <td>102.9</td>\n",
       "      <td>403.0</td>\n",
       "      <td>26.0</td>\n",
       "      <td>https://sporty-clips.mlb.com/eU5YUWVfWGw0TUFRPT1fQndnRlVsUUNBMU1BQzFCUkJ3QUFCbGRXQUFCUVYxSUFBUUVBQkFRRVZ3ZFJCZ1pl.mp4</td>\n",
       "      <td>0.289321</td>\n",
       "    </tr>\n",
       "  </tbody>\n",
       "</table>\n",
       "</div>"
      ],
      "text/plain": [
       "                                   play_id  \\\n",
       "1272  d4379cb8-4592-4de7-885a-77d02a383501   \n",
       "4812  24325967-9e9a-4f60-8a4d-1d87ef41042e   \n",
       "4639  19d606ea-32ca-47a0-ae43-3d5471f44648   \n",
       "\n",
       "                                                        title  ExitVelocity  \\\n",
       "1272  J.D. Martinez homers (5) on a fly ball to center field.         106.8   \n",
       "4812  J.D. Martinez homers (6) on a fly ball to center field.         102.4   \n",
       "4639    J.D. Martinez homers (1) on a fly ball to left field.         102.9   \n",
       "\n",
       "      HitDistance  LaunchAngle  \\\n",
       "1272        423.0         31.0   \n",
       "4812        395.0         34.0   \n",
       "4639        403.0         26.0   \n",
       "\n",
       "                                                                                                                      video  \\\n",
       "1272  https://sporty-clips.mlb.com/cjhCNGRfWGw0TUFRPT1fVWdWU1UxMVhCQW9BREZjTFZBQUFWVk5SQUZrTlZnQUFCVkpSQUFGVUFndFdCUUpY.mp4   \n",
       "4812  https://sporty-clips.mlb.com/ZThRYnlfWGw0TUFRPT1fQkFWU1ZsRU5VQVVBQVFjTEJ3QUFWd0JXQUZsVVZ3VUFBd0VOQjFaVEJRSlZCQUFE.mp4   \n",
       "4639  https://sporty-clips.mlb.com/eU5YUWVfWGw0TUFRPT1fQndnRlVsUUNBMU1BQzFCUkJ3QUFCbGRXQUFCUVYxSUFBUUVBQkFRRVZ3ZFJCZ1pl.mp4   \n",
       "\n",
       "      similarity  \n",
       "1272    0.290461  \n",
       "4812    0.290461  \n",
       "4639    0.289321  "
      ]
     },
     "execution_count": 49,
     "metadata": {},
     "output_type": "execute_result"
    }
   ],
   "source": [
    "results"
   ]
  },
  {
   "cell_type": "markdown",
   "id": "3165946a-6655-41cc-9d5a-31640f25869d",
   "metadata": {},
   "source": [
    "### Conclusion"
   ]
  },
  {
   "cell_type": "markdown",
   "id": "9bab4c1a-f86d-4757-b227-3f51d9dbedcd",
   "metadata": {},
   "source": [
    "The example above makes this solution unsatisfying.\n",
    "\n",
    "The issue likely arises because TF-IDF is a **bag-of-words** approach and **doesn't consider semantic relationships between words**."
   ]
  },
  {
   "cell_type": "markdown",
   "id": "f7be7aff-a235-4350-af57-1ed83db88df9",
   "metadata": {},
   "source": [
    "### Notes"
   ]
  },
  {
   "cell_type": "markdown",
   "id": "638c6f56-2b6e-439a-be54-779e82f610e9",
   "metadata": {
    "tags": []
   },
   "source": [
    "**TfidfVectorizer** converts text into numerical feature vectors using Term Frequency-Inverse Document Frequency, giving for each word in text a value which is multiplication of TF and IDF."
   ]
  },
  {
   "attachments": {
    "b9dcfc7f-121a-4113-96c8-c497b1711d31.png": {
     "image/png": "[encoded data removed]"
    },
    "ded4df32-f6cb-4d25-b9bd-e3ab65c6b533.png": {
     "image/png": "[encoded data removed]"
    }
   },
   "cell_type": "markdown",
   "id": "56852088-ee5a-4d69-b631-d0c57a049bf4",
   "metadata": {},
   "source": [
    "![image.png](attachment:ded4df32-f6cb-4d25-b9bd-e3ab65c6b533.png)\n",
    "![image.png](attachment:b9dcfc7f-121a-4113-96c8-c497b1711d31.png)"
   ]
  },
  {
   "cell_type": "markdown",
   "id": "0dc01db2-c740-4bc6-a269-48d52ba63367",
   "metadata": {},
   "source": [
    "**Cosine similarity** is a metric, it's a cosine of an angle between two vectors. Widely used in NLP for text comparisons."
   ]
  },
  {
   "cell_type": "markdown",
   "id": "72944d3d-a241-4548-9078-f018189656e5",
   "metadata": {
    "tags": []
   },
   "source": [
    "# 2. Semantic Retriever - Gemini API"
   ]
  },
  {
   "cell_type": "markdown",
   "id": "3b8ba8bb-6b10-4c00-a836-2bff07cc7f67",
   "metadata": {},
   "source": [
    "https://ai.google.dev/gemini-api/docs/semantic_retrieval?utm_source=chatgpt.com"
   ]
  },
  {
   "cell_type": "code",
   "execution_count": 52,
   "id": "78d069b8-b3de-4acb-b233-138b0c6e35be",
   "metadata": {
    "collapsed": true,
    "jupyter": {
     "outputs_hidden": true
    },
    "tags": []
   },
   "outputs": [
    {
     "name": "stdout",
     "output_type": "stream",
     "text": [
      "Collecting google.ai.generativelanguage\n",
      "  Downloading google_ai_generativelanguage-0.6.15-py3-none-any.whl.metadata (5.7 kB)\n",
      "Requirement already satisfied: google-api-core!=2.0.*,!=2.1.*,!=2.10.*,!=2.2.*,!=2.3.*,!=2.4.*,!=2.5.*,!=2.6.*,!=2.7.*,!=2.8.*,!=2.9.*,<3.0.0dev,>=1.34.1 in /opt/conda/lib/python3.10/site-packages (from google-api-core[grpc]!=2.0.*,!=2.1.*,!=2.10.*,!=2.2.*,!=2.3.*,!=2.4.*,!=2.5.*,!=2.6.*,!=2.7.*,!=2.8.*,!=2.9.*,<3.0.0dev,>=1.34.1->google.ai.generativelanguage) (1.34.1)\n",
      "Requirement already satisfied: google-auth!=2.24.0,!=2.25.0,<3.0.0dev,>=2.14.1 in /opt/conda/lib/python3.10/site-packages (from google.ai.generativelanguage) (2.36.0)\n",
      "Requirement already satisfied: proto-plus<2.0.0dev,>=1.22.3 in /opt/conda/lib/python3.10/site-packages (from google.ai.generativelanguage) (1.25.0)\n",
      "Requirement already satisfied: protobuf!=4.21.0,!=4.21.1,!=4.21.2,!=4.21.3,!=4.21.4,!=4.21.5,<6.0.0dev,>=3.20.2 in /opt/conda/lib/python3.10/site-packages (from google.ai.generativelanguage) (3.20.3)\n",
      "Requirement already satisfied: googleapis-common-protos<2.0dev,>=1.56.2 in /opt/conda/lib/python3.10/site-packages (from google-api-core!=2.0.*,!=2.1.*,!=2.10.*,!=2.2.*,!=2.3.*,!=2.4.*,!=2.5.*,!=2.6.*,!=2.7.*,!=2.8.*,!=2.9.*,<3.0.0dev,>=1.34.1->google-api-core[grpc]!=2.0.*,!=2.1.*,!=2.10.*,!=2.2.*,!=2.3.*,!=2.4.*,!=2.5.*,!=2.6.*,!=2.7.*,!=2.8.*,!=2.9.*,<3.0.0dev,>=1.34.1->google.ai.generativelanguage) (1.66.0)\n",
      "Requirement already satisfied: requests<3.0.0dev,>=2.18.0 in /opt/conda/lib/python3.10/site-packages (from google-api-core!=2.0.*,!=2.1.*,!=2.10.*,!=2.2.*,!=2.3.*,!=2.4.*,!=2.5.*,!=2.6.*,!=2.7.*,!=2.8.*,!=2.9.*,<3.0.0dev,>=1.34.1->google-api-core[grpc]!=2.0.*,!=2.1.*,!=2.10.*,!=2.2.*,!=2.3.*,!=2.4.*,!=2.5.*,!=2.6.*,!=2.7.*,!=2.8.*,!=2.9.*,<3.0.0dev,>=1.34.1->google.ai.generativelanguage) (2.31.0)\n",
      "Requirement already satisfied: grpcio<2.0dev,>=1.33.2 in /opt/conda/lib/python3.10/site-packages (from google-api-core[grpc]!=2.0.*,!=2.1.*,!=2.10.*,!=2.2.*,!=2.3.*,!=2.4.*,!=2.5.*,!=2.6.*,!=2.7.*,!=2.8.*,!=2.9.*,<3.0.0dev,>=1.34.1->google.ai.generativelanguage) (1.68.0)\n",
      "Requirement already satisfied: grpcio-status<2.0dev,>=1.33.2 in /opt/conda/lib/python3.10/site-packages (from google-api-core[grpc]!=2.0.*,!=2.1.*,!=2.10.*,!=2.2.*,!=2.3.*,!=2.4.*,!=2.5.*,!=2.6.*,!=2.7.*,!=2.8.*,!=2.9.*,<3.0.0dev,>=1.34.1->google.ai.generativelanguage) (1.48.2)\n",
      "Requirement already satisfied: cachetools<6.0,>=2.0.0 in /opt/conda/lib/python3.10/site-packages (from google-auth!=2.24.0,!=2.25.0,<3.0.0dev,>=2.14.1->google.ai.generativelanguage) (5.5.0)\n",
      "Requirement already satisfied: pyasn1-modules>=0.2.1 in /opt/conda/lib/python3.10/site-packages (from google-auth!=2.24.0,!=2.25.0,<3.0.0dev,>=2.14.1->google.ai.generativelanguage) (0.4.1)\n",
      "Requirement already satisfied: rsa<5,>=3.1.4 in /opt/conda/lib/python3.10/site-packages (from google-auth!=2.24.0,!=2.25.0,<3.0.0dev,>=2.14.1->google.ai.generativelanguage) (4.9)\n",
      "Requirement already satisfied: pyasn1<0.7.0,>=0.4.6 in /opt/conda/lib/python3.10/site-packages (from pyasn1-modules>=0.2.1->google-auth!=2.24.0,!=2.25.0,<3.0.0dev,>=2.14.1->google.ai.generativelanguage) (0.6.1)\n",
      "Requirement already satisfied: charset-normalizer<4,>=2 in /opt/conda/lib/python3.10/site-packages (from requests<3.0.0dev,>=2.18.0->google-api-core!=2.0.*,!=2.1.*,!=2.10.*,!=2.2.*,!=2.3.*,!=2.4.*,!=2.5.*,!=2.6.*,!=2.7.*,!=2.8.*,!=2.9.*,<3.0.0dev,>=1.34.1->google-api-core[grpc]!=2.0.*,!=2.1.*,!=2.10.*,!=2.2.*,!=2.3.*,!=2.4.*,!=2.5.*,!=2.6.*,!=2.7.*,!=2.8.*,!=2.9.*,<3.0.0dev,>=1.34.1->google.ai.generativelanguage) (3.3.2)\n",
      "Requirement already satisfied: idna<4,>=2.5 in /opt/conda/lib/python3.10/site-packages (from requests<3.0.0dev,>=2.18.0->google-api-core!=2.0.*,!=2.1.*,!=2.10.*,!=2.2.*,!=2.3.*,!=2.4.*,!=2.5.*,!=2.6.*,!=2.7.*,!=2.8.*,!=2.9.*,<3.0.0dev,>=1.34.1->google-api-core[grpc]!=2.0.*,!=2.1.*,!=2.10.*,!=2.2.*,!=2.3.*,!=2.4.*,!=2.5.*,!=2.6.*,!=2.7.*,!=2.8.*,!=2.9.*,<3.0.0dev,>=1.34.1->google.ai.generativelanguage) (3.6)\n",
      "Requirement already satisfied: urllib3<3,>=1.21.1 in /opt/conda/lib/python3.10/site-packages (from requests<3.0.0dev,>=2.18.0->google-api-core!=2.0.*,!=2.1.*,!=2.10.*,!=2.2.*,!=2.3.*,!=2.4.*,!=2.5.*,!=2.6.*,!=2.7.*,!=2.8.*,!=2.9.*,<3.0.0dev,>=1.34.1->google-api-core[grpc]!=2.0.*,!=2.1.*,!=2.10.*,!=2.2.*,!=2.3.*,!=2.4.*,!=2.5.*,!=2.6.*,!=2.7.*,!=2.8.*,!=2.9.*,<3.0.0dev,>=1.34.1->google.ai.generativelanguage) (1.26.20)\n",
      "Requirement already satisfied: certifi>=2017.4.17 in /opt/conda/lib/python3.10/site-packages (from requests<3.0.0dev,>=2.18.0->google-api-core!=2.0.*,!=2.1.*,!=2.10.*,!=2.2.*,!=2.3.*,!=2.4.*,!=2.5.*,!=2.6.*,!=2.7.*,!=2.8.*,!=2.9.*,<3.0.0dev,>=1.34.1->google-api-core[grpc]!=2.0.*,!=2.1.*,!=2.10.*,!=2.2.*,!=2.3.*,!=2.4.*,!=2.5.*,!=2.6.*,!=2.7.*,!=2.8.*,!=2.9.*,<3.0.0dev,>=1.34.1->google.ai.generativelanguage) (2024.2.2)\n",
      "Downloading google_ai_generativelanguage-0.6.15-py3-none-any.whl (1.3 MB)\n",
      "\u001b[2K   \u001b[90m━━━━━━━━━━━━━━━━━━━━━━━━━━━━━━━━━━━━━━━━\u001b[0m \u001b[32m1.3/1.3 MB\u001b[0m \u001b[31m25.1 MB/s\u001b[0m eta \u001b[36m0:00:00\u001b[0m\n",
      "\u001b[?25hInstalling collected packages: google.ai.generativelanguage\n",
      "Successfully installed google.ai.generativelanguage-0.6.15\n",
      "Note: you may need to restart the kernel to use updated packages.\n"
     ]
    }
   ],
   "source": [
    "pip install -U google.ai.generativelanguage"
   ]
  },
  {
   "cell_type": "markdown",
   "id": "935dd34a-efaf-4916-9f09-73562572bf8e",
   "metadata": {
    "tags": []
   },
   "source": [
    "## Setup"
   ]
  },
  {
   "cell_type": "code",
   "execution_count": 9,
   "id": "60feffc5-608d-488a-af88-a1df21a90893",
   "metadata": {
    "tags": []
   },
   "outputs": [],
   "source": [
    "service_account_file_name = '../service_account_key.json'\n",
    "\n",
    "from google.oauth2 import service_account\n",
    "\n",
    "credentials = service_account.Credentials.from_service_account_file(service_account_file_name)\n",
    "\n",
    "scoped_credentials = credentials.with_scopes(\n",
    "    ['https://www.googleapis.com/auth/cloud-platform', 'https://www.googleapis.com/auth/generative-language.retriever'])"
   ]
  },
  {
   "cell_type": "code",
   "execution_count": 10,
   "id": "393d6f5f-ce8b-491b-a050-0c9c1610e669",
   "metadata": {
    "tags": []
   },
   "outputs": [],
   "source": [
    "import google.ai.generativelanguage as glm\n",
    "generative_service_client = glm.GenerativeServiceClient(credentials=scoped_credentials)\n",
    "retriever_service_client = glm.RetrieverServiceClient(credentials=scoped_credentials)\n",
    "permission_service_client = glm.PermissionServiceClient(credentials=scoped_credentials)"
   ]
  },
  {
   "cell_type": "markdown",
   "id": "b06a34cb-7327-4be4-b5cd-50cb495046c6",
   "metadata": {},
   "source": [
    "## Corpus"
   ]
  },
  {
   "cell_type": "markdown",
   "id": "a79650cf-2274-41f5-8e6f-d4f74ad0f572",
   "metadata": {},
   "source": [
    "**Corpus** in the context of Google's Gemini API (and semantic retrieval in general) refers to a structured collection of data that you want the model to search through."
   ]
  },
  {
   "cell_type": "markdown",
   "id": "6ac20c9f-79de-4987-8067-e48df7dce6b4",
   "metadata": {
    "jp-MarkdownHeadingCollapsed": true,
    "tags": []
   },
   "source": [
    "### Remove existing corpuses"
   ]
  },
  {
   "cell_type": "code",
   "execution_count": 43,
   "id": "0eb8943e-b998-4e33-a66f-294430b2dc9c",
   "metadata": {
    "tags": []
   },
   "outputs": [
    {
     "name": "stdout",
     "output_type": "stream",
     "text": [
      "Corpus ID: corpora/tiktoks-from-mlb-d1wx4hjv7u7e, Display Name: Tiktoks from MLB\n",
      "Corpus ID: corpora/tiktoks-from-mlb-ojou5zmb0po3, Display Name: Tiktoks from MLB\n"
     ]
    }
   ],
   "source": [
    "list_corpora_response = retriever_service_client.list_corpora()\n",
    "for corpus in list_corpora_response.corpora:\n",
    "    print(f\"Corpus ID: {corpus.name}, Display Name: {corpus.display_name}\")"
   ]
  },
  {
   "cell_type": "code",
   "execution_count": 71,
   "id": "d4bbdb6b-f92f-406d-8d6d-f1cd3a3d126b",
   "metadata": {
    "tags": []
   },
   "outputs": [
    {
     "name": "stdout",
     "output_type": "stream",
     "text": [
      "Document ID: corpora/tiktoks-from-mlb-ojou5zmb0po3/documents/2016mlbhomeruns-g3hz29gxsn44, Title: 2016-mlb-homeruns\n"
     ]
    }
   ],
   "source": [
    "list_documents_request = glm.ListDocumentsRequest(parent=\"corpora/tiktoks-from-mlb-ojou5zmb0po3\")\n",
    "list_documents_response = retriever_service_client.list_documents(list_documents_request)\n",
    "\n",
    "for document in list_documents_response.documents:\n",
    "    print(f\"Document ID: {document.name}, Title: {document.display_name}\")"
   ]
  },
  {
   "cell_type": "code",
   "execution_count": 72,
   "id": "c8748f47-fc38-4e55-80ef-c75839c1d6b7",
   "metadata": {
    "tags": []
   },
   "outputs": [
    {
     "name": "stdout",
     "output_type": "stream",
     "text": [
      "Document ID: corpora/tiktoks-from-mlb-ojou5zmb0po3/documents/2016mlbhomeruns-g3hz29gxsn44\n",
      "Document Details: name: \"corpora/tiktoks-from-mlb-ojou5zmb0po3/documents/2016mlbhomeruns-g3hz29gxsn44\"\n",
      "display_name: \"2016-mlb-homeruns\"\n",
      "custom_metadata {\n",
      "  key: \"file_name\"\n",
      "  string_value: \"2016-mlb-homeruns.csv\"\n",
      "}\n",
      "update_time {\n",
      "  seconds: 1738178630\n",
      "  nanos: 801653000\n",
      "}\n",
      "create_time {\n",
      "  seconds: 1738178630\n",
      "  nanos: 801653000\n",
      "}\n",
      "\n"
     ]
    }
   ],
   "source": [
    "for document in list_documents_response.documents:\n",
    "    print(f\"Document ID: {document.name}\")\n",
    "    print(f\"Document Details: {document}\")"
   ]
  },
  {
   "cell_type": "code",
   "execution_count": null,
   "id": "78223303-39e9-4ef0-8b1e-a0de9359d6bd",
   "metadata": {},
   "outputs": [],
   "source": [
    "for document in list_documents_response.documents:\n",
    "    delete_document_request = glm.DeleteDocumentRequest(name=document.name)\n",
    "    retriever_service_client.delete_document(delete_document_request)\n",
    "    print(f\"Deleted Document: {document.name}\")"
   ]
  },
  {
   "cell_type": "code",
   "execution_count": 49,
   "id": "7422d8f5-6d1f-4d11-a5cb-96c0160a15e3",
   "metadata": {
    "tags": []
   },
   "outputs": [
    {
     "name": "stdout",
     "output_type": "stream",
     "text": [
      "name: \"corpora/tiktoks-from-mlb-d1wx4hjv7u7e/documents/2016mlbhomeruns-hv5fun8t45ch\"\n",
      "display_name: \"2016-mlb-homeruns\"\n",
      "update_time {\n",
      "  seconds: 1738311613\n",
      "  nanos: 259269000\n",
      "}\n",
      "create_time {\n",
      "  seconds: 1738177510\n",
      "  nanos: 375636000\n",
      "}\n",
      "\n"
     ]
    }
   ],
   "source": [
    "document_name = \"corpora/tiktoks-from-mlb-d1wx4hjv7u7e/documents/2016mlbhomeruns-hv5fun8t45ch\"\n",
    "\n",
    "get_document_request = glm.GetDocumentRequest(name=document_name)\n",
    "document_details = retriever_service_client.get_document(get_document_request)\n",
    "\n",
    "print(document_details)\n"
   ]
  },
  {
   "cell_type": "code",
   "execution_count": 50,
   "id": "9fe6b424-94aa-4da4-91ba-cb3ae927b900",
   "metadata": {
    "tags": []
   },
   "outputs": [
    {
     "name": "stdout",
     "output_type": "stream",
     "text": [
      "name: \"corpora/tiktoks-from-mlb-d1wx4hjv7u7e/documents/2016mlbhomeruns-hv5fun8t45ch\"\n",
      "display_name: \"2016-mlb-homeruns\"\n",
      "update_time {\n",
      "  seconds: 1738311613\n",
      "  nanos: 259269000\n",
      "}\n",
      "create_time {\n",
      "  seconds: 1738177510\n",
      "  nanos: 375636000\n",
      "}\n",
      "\n"
     ]
    }
   ],
   "source": [
    "get_document_request = glm.GetDocumentRequest(name=document_name)\n",
    "document_details = retriever_service_client.get_document(get_document_request)\n",
    "\n",
    "print(document_details)\n"
   ]
  },
  {
   "cell_type": "code",
   "execution_count": 64,
   "id": "a636488a-f80c-4f22-b979-5c64ca419052",
   "metadata": {
    "tags": []
   },
   "outputs": [
    {
     "name": "stdout",
     "output_type": "stream",
     "text": [
      "Full document details: name: \"corpora/tiktoks-from-mlb-d1wx4hjv7u7e/documents/2016mlbhomeruns-hv5fun8t45ch\"\n",
      "display_name: \"2016-mlb-homeruns\"\n",
      "update_time {\n",
      "  seconds: 1738312303\n",
      "  nanos: 674302000\n",
      "}\n",
      "create_time {\n",
      "  seconds: 1738177510\n",
      "  nanos: 375636000\n",
      "}\n",
      "\n"
     ]
    }
   ],
   "source": [
    "get_document_request = glm.GetDocumentRequest(name=document_name)\n",
    "document_details = retriever_service_client.get_document(get_document_request)\n",
    "\n",
    "print(\"Full document details:\", document_details)\n"
   ]
  },
  {
   "cell_type": "code",
   "execution_count": 71,
   "id": "86da39e0-830c-4d05-8aaf-238c55ba046d",
   "metadata": {
    "tags": []
   },
   "outputs": [
    {
     "name": "stdout",
     "output_type": "stream",
     "text": [
      "Document corpora/tiktoks-from-mlb-ecz04so6tdfy/documents/2016mlbhomeruns-fdsv1g96xeu5 force-deleted successfully.\n"
     ]
    }
   ],
   "source": [
    "# Force delete of document even if contains some content\n",
    "\n",
    "document_name = 'corpora/tiktoks-from-mlb-ojou5zmb0po3/documents/2016mlbhomeruns-g3hz29gxsn44'\n",
    "delete_document_request = glm.DeleteDocumentRequest(\n",
    "    name=document_name,\n",
    "    force=True  # If the API supports this\n",
    ")\n",
    "\n",
    "try:\n",
    "    retriever_service_client.delete_document(delete_document_request)\n",
    "    print(f\"Document {document_name} force-deleted successfully.\")\n",
    "except Exception as e:\n",
    "    print(f\"Error force-deleting document {document_name}: {e}\")\n"
   ]
  },
  {
   "cell_type": "code",
   "execution_count": 77,
   "id": "fc850cbc-c7fc-4fbc-8139-9e2b4d996c86",
   "metadata": {
    "tags": []
   },
   "outputs": [
    {
     "name": "stdout",
     "output_type": "stream",
     "text": [
      "Corpus deleted successfully.\n"
     ]
    }
   ],
   "source": [
    "# Delete Corpus\n",
    "\n",
    "delete_corpus_request = glm.DeleteCorpusRequest(name=\"corpora/tiktoks-from-mlb-ojou5zmb0po3\")\n",
    "retriever_service_client.delete_corpus(delete_corpus_request)\n",
    "print(\"Corpus deleted successfully.\")"
   ]
  },
  {
   "cell_type": "markdown",
   "id": "c76bb7ae-6326-4456-8bc5-494a501c52a4",
   "metadata": {},
   "source": [
    "### Create Corpus"
   ]
  },
  {
   "cell_type": "markdown",
   "id": "5aa1d080-8b1e-4788-a5cd-dab163867d8d",
   "metadata": {
    "jp-MarkdownHeadingCollapsed": true,
    "tags": []
   },
   "source": [
    "#### Search for existing Corpus"
   ]
  },
  {
   "cell_type": "code",
   "execution_count": 13,
   "id": "ddaf942d-d6ae-405e-84ba-757daf6e2d54",
   "metadata": {
    "tags": []
   },
   "outputs": [
    {
     "name": "stdout",
     "output_type": "stream",
     "text": [
      "Corpus already exists: corpora/tiktoks-from-mlb-ecz04so6tdfy\n"
     ]
    }
   ],
   "source": [
    "list_corpora_response = retriever_service_client.list_corpora()\n",
    "\n",
    "existing_corpus = None\n",
    "for corpus in list_corpora_response.corpora:\n",
    "    if corpus.display_name == \"Tiktoks from MLB\":  # Change this name as needed\n",
    "        existing_corpus = corpus\n",
    "        break\n",
    "\n",
    "if existing_corpus:\n",
    "    print(f\"Corpus already exists: {existing_corpus.name}\")\n",
    "    corpus_resource_name = existing_corpus.name\n",
    "else:\n",
    "    print(\"Corpus does not exist. Creating a new one...\")\n"
   ]
  },
  {
   "cell_type": "markdown",
   "id": "4903c197-2e45-4d14-b627-8aa26f9a7447",
   "metadata": {
    "jp-MarkdownHeadingCollapsed": true,
    "tags": []
   },
   "source": [
    "#### Create Corpus"
   ]
  },
  {
   "cell_type": "code",
   "execution_count": 79,
   "id": "8dc523c6-2a41-42d5-85df-0a6d34a9361e",
   "metadata": {
    "tags": []
   },
   "outputs": [],
   "source": [
    "corpus = glm.Corpus(display_name=\"Tiktoks from MLB\")\n",
    "create_corpus_request = glm.CreateCorpusRequest(corpus=corpus)"
   ]
  },
  {
   "cell_type": "code",
   "execution_count": 80,
   "id": "de22a1a4-0c19-4b43-aeb8-743bf2326af5",
   "metadata": {
    "tags": []
   },
   "outputs": [],
   "source": [
    "# Make the request\n",
    "create_corpus_response = retriever_service_client.create_corpus(create_corpus_request)"
   ]
  },
  {
   "cell_type": "code",
   "execution_count": 81,
   "id": "f82fb52b-5c7f-4db2-9ddf-02e040a30280",
   "metadata": {
    "tags": []
   },
   "outputs": [
    {
     "name": "stdout",
     "output_type": "stream",
     "text": [
      "name: \"corpora/tiktoks-from-mlb-ecz04so6tdfy\"\n",
      "display_name: \"Tiktoks from MLB\"\n",
      "create_time {\n",
      "  seconds: 1738312930\n",
      "  nanos: 879850000\n",
      "}\n",
      "update_time {\n",
      "  seconds: 1738312930\n",
      "  nanos: 879850000\n",
      "}\n",
      "\n"
     ]
    }
   ],
   "source": [
    "# Set the `corpus_resource_name` for subsequent sections.\n",
    "corpus_resource_name = create_corpus_response.name\n",
    "print(create_corpus_response)"
   ]
  },
  {
   "cell_type": "markdown",
   "id": "43b29d35-d037-46e8-a450-68d2e5f55ee6",
   "metadata": {
    "jp-MarkdownHeadingCollapsed": true,
    "tags": []
   },
   "source": [
    "### Get the created corpus"
   ]
  },
  {
   "cell_type": "code",
   "execution_count": 14,
   "id": "31511b1b-4233-4159-8795-126874a370e1",
   "metadata": {
    "tags": []
   },
   "outputs": [
    {
     "name": "stdout",
     "output_type": "stream",
     "text": [
      "name: \"corpora/tiktoks-from-mlb-ecz04so6tdfy\"\n",
      "display_name: \"Tiktoks from MLB\"\n",
      "create_time {\n",
      "  seconds: 1738312930\n",
      "  nanos: 879850000\n",
      "}\n",
      "update_time {\n",
      "  seconds: 1738312930\n",
      "  nanos: 879850000\n",
      "}\n",
      "\n"
     ]
    }
   ],
   "source": [
    "get_corpus_request = glm.GetCorpusRequest(name=corpus_resource_name)\n",
    "\n",
    "# Make the request\n",
    "get_corpus_response = retriever_service_client.get_corpus(get_corpus_request)\n",
    "\n",
    "# Print the response\n",
    "print(get_corpus_response)"
   ]
  },
  {
   "cell_type": "markdown",
   "id": "4fc2d50e-5e4f-430b-829a-bbfd0f6897bc",
   "metadata": {
    "jp-MarkdownHeadingCollapsed": true,
    "tags": []
   },
   "source": [
    "## Document"
   ]
  },
  {
   "cell_type": "markdown",
   "id": "0d72e007-4676-426b-ba72-3e358611c68a",
   "metadata": {},
   "source": [
    "A Corpus can contain up to 10,000 Documents. "
   ]
  },
  {
   "cell_type": "markdown",
   "id": "6ccb0a04-b5fd-4391-918e-a2f4557964be",
   "metadata": {},
   "source": [
    "Show all existing documents in the Corpus"
   ]
  },
  {
   "cell_type": "code",
   "execution_count": 72,
   "id": "b132a352-2030-41f2-b010-f56798153669",
   "metadata": {
    "tags": []
   },
   "outputs": [],
   "source": [
    "list_documents_request = glm.ListDocumentsRequest(parent=corpus_resource_name)\n",
    "list_documents_response = retriever_service_client.list_documents(list_documents_request)\n",
    "\n",
    "for document in list_documents_response.documents:\n",
    "    print(f\"Document ID: {document.name}, Title: {document.display_name}\")\n",
    "    document_resource_name = document.name"
   ]
  },
  {
   "cell_type": "markdown",
   "id": "9137c1dc-ab5c-492c-a7ee-3a54074402cb",
   "metadata": {
    "tags": []
   },
   "source": [
    "### Create a document"
   ]
  },
  {
   "cell_type": "code",
   "execution_count": 73,
   "id": "8f2c90f7-9022-4873-85ff-a4e29ae90454",
   "metadata": {
    "tags": []
   },
   "outputs": [],
   "source": [
    "# Create a document with a custom display name.\n",
    "document = glm.Document(display_name=\"2016-mlb-homeruns\")"
   ]
  },
  {
   "cell_type": "code",
   "execution_count": 74,
   "id": "765ed9e8-b3c2-4dfb-a2c3-3512e7ed7a22",
   "metadata": {
    "tags": []
   },
   "outputs": [],
   "source": [
    "# Add metadata.\n",
    "# Metadata also supports numeric values not specified here\n",
    "document_metadata = [\n",
    "    glm.CustomMetadata(key=\"file_name\", string_value=\"2016-mlb-homeruns.csv\")]\n",
    "document.custom_metadata.extend(document_metadata)"
   ]
  },
  {
   "cell_type": "code",
   "execution_count": 75,
   "id": "aea5ab42-ea0a-4743-857e-303eed1e0902",
   "metadata": {
    "tags": []
   },
   "outputs": [],
   "source": [
    "# Make the request\n",
    "# corpus_resource_name is a variable set in the \"Create a corpus\" section.\n",
    "create_document_request = glm.CreateDocumentRequest(parent=corpus_resource_name, document=document)\n",
    "create_document_response = retriever_service_client.create_document(create_document_request)"
   ]
  },
  {
   "cell_type": "code",
   "execution_count": 76,
   "id": "3625e008-6274-489f-9a6b-2bdc65a5d676",
   "metadata": {
    "tags": []
   },
   "outputs": [
    {
     "name": "stdout",
     "output_type": "stream",
     "text": [
      "name: \"corpora/tiktoks-from-mlb-ecz04so6tdfy/documents/2016mlbhomeruns-ygfkplbos8x6\"\n",
      "display_name: \"2016-mlb-homeruns\"\n",
      "custom_metadata {\n",
      "  key: \"file_name\"\n",
      "  string_value: \"2016-mlb-homeruns.csv\"\n",
      "}\n",
      "update_time {\n",
      "  seconds: 1739876021\n",
      "  nanos: 861763000\n",
      "}\n",
      "create_time {\n",
      "  seconds: 1739876021\n",
      "  nanos: 861763000\n",
      "}\n",
      "\n"
     ]
    }
   ],
   "source": [
    "# Set the `document_resource_name` for subsequent sections.\n",
    "document_resource_name = create_document_response.name\n",
    "print(create_document_response)"
   ]
  },
  {
   "cell_type": "markdown",
   "id": "aea5761c-9f48-4709-8a4b-e117784b4e48",
   "metadata": {},
   "source": [
    "### Get the created document"
   ]
  },
  {
   "cell_type": "code",
   "execution_count": 77,
   "id": "6fa456f2-c013-4639-b527-5c6eac8d232e",
   "metadata": {
    "tags": []
   },
   "outputs": [
    {
     "name": "stdout",
     "output_type": "stream",
     "text": [
      "name: \"corpora/tiktoks-from-mlb-ecz04so6tdfy/documents/2016mlbhomeruns-ygfkplbos8x6\"\n",
      "display_name: \"2016-mlb-homeruns\"\n",
      "custom_metadata {\n",
      "  key: \"file_name\"\n",
      "  string_value: \"2016-mlb-homeruns.csv\"\n",
      "}\n",
      "update_time {\n",
      "  seconds: 1739876021\n",
      "  nanos: 861763000\n",
      "}\n",
      "create_time {\n",
      "  seconds: 1739876021\n",
      "  nanos: 861763000\n",
      "}\n",
      "\n"
     ]
    }
   ],
   "source": [
    "get_document_request = glm.GetDocumentRequest(name=document_resource_name)\n",
    "\n",
    "# Make the request\n",
    "# document_resource_name is a variable set in the \"Create a document\" section.\n",
    "get_document_response = retriever_service_client.get_document(get_document_request)\n",
    "\n",
    "# Print the response\n",
    "print(get_document_response)"
   ]
  },
  {
   "cell_type": "markdown",
   "id": "3a7a9ce4-1e7b-4e74-839c-efa6045e5f3b",
   "metadata": {
    "jp-MarkdownHeadingCollapsed": true,
    "tags": []
   },
   "source": [
    "## Ingest & Chunk a Document"
   ]
  },
  {
   "cell_type": "code",
   "execution_count": 78,
   "id": "6aa9e939-5686-4b5f-809c-4f53f9f47300",
   "metadata": {
    "tags": []
   },
   "outputs": [],
   "source": [
    "# import csv\n",
    "# import google.ai.generativelanguage as glm\n",
    "\n",
    "# # Initialize the retriever service client\n",
    "# retriever_service_client = glm.RetrieverServiceClient(credentials=scoped_credentials)\n",
    "\n",
    "# # Function to split text into chunks within the specified byte limit\n",
    "# def split_text_into_chunks(text, byte_limit):\n",
    "#     words = text.split()\n",
    "#     chunks = []\n",
    "#     current_chunk = []\n",
    "#     current_size = 0\n",
    "\n",
    "#     for word in words:\n",
    "#         word_size = len(word.encode('utf-8')) + 1  # +1 for the space or newline\n",
    "#         if current_size + word_size > byte_limit:\n",
    "#             chunks.append(' '.join(current_chunk))\n",
    "#             current_chunk = [word]\n",
    "#             current_size = word_size\n",
    "#         else:\n",
    "#             current_chunk.append(word)\n",
    "#             current_size += word_size\n",
    "\n",
    "#     if current_chunk:\n",
    "#         chunks.append(' '.join(current_chunk))\n",
    "\n",
    "#     return chunks\n",
    "\n",
    "# # Read the CSV file\n",
    "# csv_file_path = '2016-mlb-homeruns.csv'\n",
    "# with open(csv_file_path, newline='') as csvfile:\n",
    "#     csv_reader = csv.reader(csvfile)\n",
    "#     csv_content = '\\n'.join([','.join(row) for row in csv_reader])\n",
    "\n",
    "\n",
    "# # Define the byte limit per chunk (e.g., 10 KB)\n",
    "# byte_limit = 2000\n",
    "\n",
    "# # Split the CSV content into chunks\n",
    "# chunks = split_text_into_chunks(csv_content, byte_limit)"
   ]
  },
  {
   "cell_type": "code",
   "execution_count": 79,
   "id": "27777e24-12c1-4bfb-91a0-2c050888b52a",
   "metadata": {
    "tags": []
   },
   "outputs": [
    {
     "data": {
      "text/html": [
       "<div>\n",
       "<style scoped>\n",
       "    .dataframe tbody tr th:only-of-type {\n",
       "        vertical-align: middle;\n",
       "    }\n",
       "\n",
       "    .dataframe tbody tr th {\n",
       "        vertical-align: top;\n",
       "    }\n",
       "\n",
       "    .dataframe thead th {\n",
       "        text-align: right;\n",
       "    }\n",
       "</style>\n",
       "<table border=\"1\" class=\"dataframe\">\n",
       "  <thead>\n",
       "    <tr style=\"text-align: right;\">\n",
       "      <th></th>\n",
       "      <th>play_id</th>\n",
       "      <th>title</th>\n",
       "      <th>ExitVelocity</th>\n",
       "      <th>HitDistance</th>\n",
       "      <th>LaunchAngle</th>\n",
       "      <th>video</th>\n",
       "    </tr>\n",
       "  </thead>\n",
       "  <tbody>\n",
       "    <tr>\n",
       "      <th>0</th>\n",
       "      <td>5b254850-9e14-48d2-8baf-c3e12ecbe68d</td>\n",
       "      <td>John Jaso homers (6) on a fly ball to center field.</td>\n",
       "      <td>102.9</td>\n",
       "      <td>412.0</td>\n",
       "      <td>25.0</td>\n",
       "      <td>https://sporty-clips.mlb.com/YjlLTlpfWGw0TUFRPT1fQTFOVFVWQU1Vd0lBQVFjRFVnQUFDVkpVQUZsWEFnY0FVVlpRQVFGUVVsRUFCZ29D.mp4</td>\n",
       "    </tr>\n",
       "  </tbody>\n",
       "</table>\n",
       "</div>"
      ],
      "text/plain": [
       "                                play_id  \\\n",
       "0  5b254850-9e14-48d2-8baf-c3e12ecbe68d   \n",
       "\n",
       "                                                 title  ExitVelocity  \\\n",
       "0  John Jaso homers (6) on a fly ball to center field.         102.9   \n",
       "\n",
       "   HitDistance  LaunchAngle  \\\n",
       "0        412.0         25.0   \n",
       "\n",
       "                                                                                                                   video  \n",
       "0  https://sporty-clips.mlb.com/YjlLTlpfWGw0TUFRPT1fQTFOVFVWQU1Vd0lBQVFjRFVnQUFDVkpVQUZsWEFnY0FVVlpRQVFGUVVsRUFCZ29D.mp4  "
      ]
     },
     "execution_count": 79,
     "metadata": {},
     "output_type": "execute_result"
    }
   ],
   "source": [
    "import pandas as pd\n",
    "\n",
    "df_homeruns = pd.read_csv('2016-mlb-homeruns.csv')\n",
    "df_homeruns.head(1)"
   ]
  },
  {
   "cell_type": "code",
   "execution_count": 80,
   "id": "d52f191d-8fa6-4704-9052-b45163fff38a",
   "metadata": {
    "tags": []
   },
   "outputs": [
    {
     "name": "stderr",
     "output_type": "stream",
     "text": [
      "/var/tmp/ipykernel_4581/3239257153.py:1: FutureWarning: Series.__getitem__ treating keys as positions is deprecated. In a future version, integer keys will always be treated as labels (consistent with DataFrame behavior). To access a value by position, use `ser.iloc[pos]`\n",
      "  result_dict = {row[1]: index for index, row in df_homeruns.iterrows() for col in [\"title\"]}\n"
     ]
    },
    {
     "name": "stdout",
     "output_type": "stream",
     "text": [
      "key: John Jaso homers (6) on a fly ball to center field., value: 0\n"
     ]
    }
   ],
   "source": [
    "result_dict = {row[1]: index for index, row in df_homeruns.iterrows() for col in [\"title\"]}\n",
    "for key, value in result_dict.items():\n",
    "    print(f\"key: {key}, value: {value}\")\n",
    "    break"
   ]
  },
  {
   "cell_type": "code",
   "execution_count": 81,
   "id": "5dd77f04-685a-466b-abed-bfd4f8af487f",
   "metadata": {
    "tags": []
   },
   "outputs": [],
   "source": [
    "chunks = df_homeruns[\"title\"].tolist()"
   ]
  },
  {
   "cell_type": "markdown",
   "id": "3cbf2464-c9ba-4de6-b241-a1a6e8099f65",
   "metadata": {
    "tags": []
   },
   "source": [
    "## Batch create chunks, create and upload each chunk"
   ]
  },
  {
   "cell_type": "code",
   "execution_count": 82,
   "id": "e23a2994-f81d-44dc-9b0a-e8c1b3d07937",
   "metadata": {
    "tags": []
   },
   "outputs": [
    {
     "name": "stdout",
     "output_type": "stream",
     "text": [
      "1 out of 5499\n",
      "John Jaso homers (6) on a fly ball to center field.\n",
      "2 out of 5499\n",
      "Evan Longoria homers (34) on a fly ball to left center field.   Kevin Kiermaier scores.\n",
      "3 out of 5499\n",
      "Marwin Gonzalez homers (13) on a line drive to right field.\n",
      "4 out of 5499\n",
      "Eddie Rosario homers (10) on a fly ball to right field.\n",
      "break\n"
     ]
    }
   ],
   "source": [
    "# Create and upload each chunk\n",
    "for i, chunk_text in enumerate(chunks):\n",
    "    print(f'{i+1} out of {len(chunks)}')\n",
    "    # Create chunk objest from chunk of text\n",
    "    chunk = glm.Chunk(data={'string_value': chunk_text})\n",
    "    chunk.custom_metadata.append(glm.CustomMetadata(key=\"part\", string_value=f\"Part {i+1}\"))\n",
    "    # glm.CreateChunkRequest prepares the API request to upload the chunk to GCP\n",
    "    create_chunk_request = glm.CreateChunkRequest(parent=document_resource_name, chunk=chunk)\n",
    "    retriever_service_client.create_chunk(create_chunk_request)\n",
    "    print(chunk_text)\n",
    "    if i+1 == 4:\n",
    "        print('break') \n",
    "        break ########### quick test"
   ]
  },
  {
   "cell_type": "code",
   "execution_count": 83,
   "id": "13821793-fc08-4906-8c86-8edf33463126",
   "metadata": {
    "tags": []
   },
   "outputs": [
    {
     "data": {
      "text/plain": [
       "data {\n",
       "  string_value: \"Eddie Rosario homers (10) on a fly ball to right field.\"\n",
       "}\n",
       "custom_metadata {\n",
       "  key: \"part\"\n",
       "  string_value: \"Part 4\"\n",
       "}"
      ]
     },
     "execution_count": 83,
     "metadata": {},
     "output_type": "execute_result"
    }
   ],
   "source": [
    "chunk"
   ]
  },
  {
   "cell_type": "markdown",
   "id": "7e41eaf2-dcdb-4edf-8ab0-566367193371",
   "metadata": {},
   "source": [
    "## Query the corpus"
   ]
  },
  {
   "cell_type": "markdown",
   "id": "80b3b6bf-2912-4fee-916a-a9c227ac9aa3",
   "metadata": {},
   "source": [
    "Perform semantic search"
   ]
  },
  {
   "cell_type": "code",
   "execution_count": 107,
   "id": "ca1c9fc2-f937-4733-9a4a-cc6d00324ce8",
   "metadata": {},
   "outputs": [
    {
     "name": "stdout",
     "output_type": "stream",
     "text": [
      "John Jaso, Eddie Rosario, Marwin Gonzalez and Evan Longoria all hit home runs.\n",
      "\n",
      "\n",
      "John Jaso homers (6) on a fly ball to center field.\n",
      "\n",
      "\n",
      "answer {\n",
      "  content {\n",
      "    parts {\n",
      "      text: \"John Jaso, Eddie Rosario, Marwin Gonzalez and Evan Longoria all hit home runs.\"\n",
      "    }\n",
      "  }\n",
      "  finish_reason: STOP\n",
      "  safety_ratings {\n",
      "    category: HARM_CATEGORY_SEXUALLY_EXPLICIT\n",
      "    probability: NEGLIGIBLE\n",
      "  }\n",
      "  safety_ratings {\n",
      "    category: HARM_CATEGORY_HATE_SPEECH\n",
      "    probability: NEGLIGIBLE\n",
      "  }\n",
      "  safety_ratings {\n",
      "    category: HARM_CATEGORY_HARASSMENT\n",
      "    probability: NEGLIGIBLE\n",
      "  }\n",
      "  safety_ratings {\n",
      "    category: HARM_CATEGORY_DANGEROUS_CONTENT\n",
      "    probability: NEGLIGIBLE\n",
      "  }\n",
      "  grounding_attributions {\n",
      "    content {\n",
      "      parts {\n",
      "        text: \"John Jaso homers (6) on a fly ball to center field.\"\n",
      "      }\n",
      "    }\n",
      "    source_id {\n",
      "      semantic_retriever_chunk {\n",
      "        source: \"corpora/tiktoks-from-mlb-ecz04so6tdfy\"\n",
      "        chunk: \"corpora/tiktoks-from-mlb-ecz04so6tdfy/documents/2016mlbhomeruns-ygfkplbos8x6/chunks/b7gltwr4sv47\"\n",
      "      }\n",
      "    }\n",
      "  }\n",
      "  grounding_attributions {\n",
      "    content {\n",
      "      parts {\n",
      "        text: \"Eddie Rosario homers (10) on a fly ball to right field.\"\n",
      "      }\n",
      "    }\n",
      "    source_id {\n",
      "      semantic_retriever_chunk {\n",
      "        source: \"corpora/tiktoks-from-mlb-ecz04so6tdfy\"\n",
      "        chunk: \"corpora/tiktoks-from-mlb-ecz04so6tdfy/documents/2016mlbhomeruns-ygfkplbos8x6/chunks/7ql9mpp77koz\"\n",
      "      }\n",
      "    }\n",
      "  }\n",
      "  grounding_attributions {\n",
      "    content {\n",
      "      parts {\n",
      "        text: \"Marwin Gonzalez homers (13) on a line drive to right field.\"\n",
      "      }\n",
      "    }\n",
      "    source_id {\n",
      "      semantic_retriever_chunk {\n",
      "        source: \"corpora/tiktoks-from-mlb-ecz04so6tdfy\"\n",
      "        chunk: \"corpora/tiktoks-from-mlb-ecz04so6tdfy/documents/2016mlbhomeruns-ygfkplbos8x6/chunks/uuw5eysrru0k\"\n",
      "      }\n",
      "    }\n",
      "  }\n",
      "  grounding_attributions {\n",
      "    content {\n",
      "      parts {\n",
      "        text: \"Evan Longoria homers (34) on a fly ball to left center field.   Kevin Kiermaier scores.\"\n",
      "      }\n",
      "    }\n",
      "    source_id {\n",
      "      semantic_retriever_chunk {\n",
      "        source: \"corpora/tiktoks-from-mlb-ecz04so6tdfy\"\n",
      "        chunk: \"corpora/tiktoks-from-mlb-ecz04so6tdfy/documents/2016mlbhomeruns-ygfkplbos8x6/chunks/pz711rxe0vm7\"\n",
      "      }\n",
      "    }\n",
      "  }\n",
      "}\n",
      "answerable_probability: 0.00010973898315569386\n",
      "input_feedback {\n",
      "  safety_ratings {\n",
      "    category: HARM_CATEGORY_SEXUALLY_EXPLICIT\n",
      "    probability: NEGLIGIBLE\n",
      "  }\n",
      "  safety_ratings {\n",
      "    category: HARM_CATEGORY_HATE_SPEECH\n",
      "    probability: NEGLIGIBLE\n",
      "  }\n",
      "  safety_ratings {\n",
      "    category: HARM_CATEGORY_HARASSMENT\n",
      "    probability: NEGLIGIBLE\n",
      "  }\n",
      "  safety_ratings {\n",
      "    category: HARM_CATEGORY_DANGEROUS_CONTENT\n",
      "    probability: NEGLIGIBLE\n",
      "  }\n",
      "}\n",
      "\n"
     ]
    }
   ],
   "source": [
    "# Define the user query\n",
    "user_query = \"Who smacks a home run on a soaring shot\"\n",
    "content = glm.Content(parts=[glm.Part(text=user_query)])\n",
    "\n",
    "# Configure the semantic retriever\n",
    "retriever_config = glm.SemanticRetrieverConfig(source=corpus_resource_name, query=content)\n",
    "\n",
    "# Create the request\n",
    "generate_answer_request = glm.GenerateAnswerRequest(\n",
    "    model=\"models/aqa\",\n",
    "    contents=[content],\n",
    "    semantic_retriever=retriever_config,\n",
    "    answer_style=\"ABSTRACTIVE\"  # Options: ABSTRACTIVE, VERBOSE, EXTRACTIVE\n",
    ")\n",
    "\n",
    "# Make the request\n",
    "aqa_response = generative_service_client.generate_answer(generate_answer_request)\n",
    "\n",
    "# Output the response\n",
    "# final answer based on the model's understanding and retrieved information.\n",
    "print(aqa_response.answer.content.parts[0].text)\n",
    "print('\\n')\n",
    "# This outputs the first piece of source material that contributed to the AI's answer.\n",
    "print(aqa_response.answer.grounding_attributions[0].content.parts[0].text)\n",
    "print('\\n')\n",
    "print(aqa_response)"
   ]
  },
  {
   "cell_type": "code",
   "execution_count": 108,
   "id": "0e698b07-9fa3-4eeb-9188-c3f5959fb57b",
   "metadata": {
    "tags": []
   },
   "outputs": [
    {
     "name": "stdout",
     "output_type": "stream",
     "text": [
      "Kevin Kiermaier scores.\n",
      "\n",
      "\n",
      "Evan Longoria homers (34) on a fly ball to left center field.   Kevin Kiermaier scores.\n",
      "\n",
      "\n",
      "answer {\n",
      "  content {\n",
      "    parts {\n",
      "      text: \"Kevin Kiermaier scores.\"\n",
      "    }\n",
      "  }\n",
      "  finish_reason: STOP\n",
      "  safety_ratings {\n",
      "    category: HARM_CATEGORY_SEXUALLY_EXPLICIT\n",
      "    probability: NEGLIGIBLE\n",
      "  }\n",
      "  safety_ratings {\n",
      "    category: HARM_CATEGORY_HATE_SPEECH\n",
      "    probability: NEGLIGIBLE\n",
      "  }\n",
      "  safety_ratings {\n",
      "    category: HARM_CATEGORY_HARASSMENT\n",
      "    probability: NEGLIGIBLE\n",
      "  }\n",
      "  safety_ratings {\n",
      "    category: HARM_CATEGORY_DANGEROUS_CONTENT\n",
      "    probability: NEGLIGIBLE\n",
      "  }\n",
      "  grounding_attributions {\n",
      "    content {\n",
      "      parts {\n",
      "        text: \"Evan Longoria homers (34) on a fly ball to left center field.   Kevin Kiermaier scores.\"\n",
      "      }\n",
      "    }\n",
      "    source_id {\n",
      "      semantic_retriever_chunk {\n",
      "        source: \"corpora/tiktoks-from-mlb-ecz04so6tdfy\"\n",
      "        chunk: \"corpora/tiktoks-from-mlb-ecz04so6tdfy/documents/2016mlbhomeruns-ygfkplbos8x6/chunks/pz711rxe0vm7\"\n",
      "      }\n",
      "    }\n",
      "  }\n",
      "}\n",
      "answerable_probability: 0.9995729327201843\n",
      "input_feedback {\n",
      "  safety_ratings {\n",
      "    category: HARM_CATEGORY_SEXUALLY_EXPLICIT\n",
      "    probability: NEGLIGIBLE\n",
      "  }\n",
      "  safety_ratings {\n",
      "    category: HARM_CATEGORY_HATE_SPEECH\n",
      "    probability: NEGLIGIBLE\n",
      "  }\n",
      "  safety_ratings {\n",
      "    category: HARM_CATEGORY_HARASSMENT\n",
      "    probability: NEGLIGIBLE\n",
      "  }\n",
      "  safety_ratings {\n",
      "    category: HARM_CATEGORY_DANGEROUS_CONTENT\n",
      "    probability: NEGLIGIBLE\n",
      "  }\n",
      "}\n",
      "\n"
     ]
    }
   ],
   "source": [
    "# Define the user query\n",
    "user_query = \"Who scored?\"\n",
    "content = glm.Content(parts=[glm.Part(text=user_query)])\n",
    "\n",
    "# Configure the semantic retriever\n",
    "retriever_config = glm.SemanticRetrieverConfig(source=corpus_resource_name, query=content)\n",
    "\n",
    "# Create the request\n",
    "generate_answer_request = glm.GenerateAnswerRequest(\n",
    "    model=\"models/aqa\",\n",
    "    contents=[content],\n",
    "    semantic_retriever=retriever_config,\n",
    "    answer_style=\"ABSTRACTIVE\"  # Options: ABSTRACTIVE, VERBOSE, EXTRACTIVE\n",
    ")\n",
    "\n",
    "# Make the request\n",
    "aqa_response = generative_service_client.generate_answer(generate_answer_request)\n",
    "\n",
    "# Output the response\n",
    "# final answer based on the model's understanding and retrieved information.\n",
    "print(aqa_response.answer.content.parts[0].text)\n",
    "print('\\n')\n",
    "# This outputs the first piece of source material that contributed to the AI's answer.\n",
    "print(aqa_response.answer.grounding_attributions[0].content.parts[0].text)\n",
    "print('\\n')\n",
    "print(aqa_response)"
   ]
  },
  {
   "cell_type": "code",
   "execution_count": null,
   "id": "13acf509-3e1a-49f7-bd4e-0a62c590fe4b",
   "metadata": {},
   "outputs": [],
   "source": []
  },
  {
   "cell_type": "code",
   "execution_count": null,
   "id": "63f180af-f4d4-459a-921c-263abd5264be",
   "metadata": {},
   "outputs": [],
   "source": []
  }
 ],
 "metadata": {
  "environment": {
   "kernel": "conda-base-py",
   "name": "workbench-notebooks.m126",
   "type": "gcloud",
   "uri": "us-docker.pkg.dev/deeplearning-platform-release/gcr.io/workbench-notebooks:m126"
  },
  "kernelspec": {
   "display_name": "Python 3 (ipykernel) (Local)",
   "language": "python",
   "name": "conda-base-py"
  },
  "language_info": {
   "codemirror_mode": {
    "name": "ipython",
    "version": 3
   },
   "file_extension": ".py",
   "mimetype": "text/x-python",
   "name": "python",
   "nbconvert_exporter": "python",
   "pygments_lexer": "ipython3",
   "version": "3.10.15"
  }
 },
 "nbformat": 4,
 "nbformat_minor": 5
}
